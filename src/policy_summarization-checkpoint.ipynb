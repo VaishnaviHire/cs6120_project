{
 "cells": [
  {
   "cell_type": "code",
   "execution_count": 6,
   "metadata": {
    "pycharm": {
     "is_executing": false
    }
   },
   "outputs": [],
   "source": [
    "\n",
    "import os\n",
    "from bs4 import BeautifulSoup\n",
    "import numpy as np\n",
    "import re"
   ]
  },
  {
   "cell_type": "markdown",
   "metadata": {},
   "source": [
    "## Data cleaning and Preprocessing"
   ]
  },
  {
   "cell_type": "code",
   "execution_count": 7,
   "metadata": {
    "pycharm": {
     "is_executing": false
    }
   },
   "outputs": [],
   "source": [
    "# Convert HTML documents to text\n",
    "\n",
    "def convert_to_text(src_dir, target_dir):\n",
    "    for file in os.listdir('../data/original_policies'):\n",
    "        with open('../data/original_policies' + '/' + file, 'r', encoding=\"ISO-8859-1\") as f:\n",
    "            print(file)\n",
    "            data = f.read()\n",
    "            # print(data)\n",
    "            bs = BeautifulSoup(data,'html.parser')\n",
    "            texts = bs.findAll(['title', 'body','p','strong'])\n",
    "\n",
    "        with open('../data/clean_policies' + '/' + file, 'w') as f:\n",
    "            for t in texts:\n",
    "                f.write(t.text)\n"
   ]
  },
  {
   "cell_type": "code",
   "execution_count": 8,
   "metadata": {
    "pycharm": {
     "is_executing": false
    }
   },
   "outputs": [],
   "source": [
    "# Remove tags from the documents\n",
    "def convert_clean_summaries(src_dir, target_dir):\n",
    "    for file in os.listdir('../data/sanitized_policies'):\n",
    "        with open('../data/sanitized_policies' + '/' + file, 'r', encoding=\"ISO-8859-1\") as f:\n",
    "\n",
    "            cleanr = re.compile('<.*?>')\n",
    "            cleantext = re.sub(cleanr, '', f.read())\n",
    "            filename = file.split('.', -1)[0] + '.txt'\n",
    "\n",
    "        with open('../data/notags_policies' + '/' + filename, 'w') as f:\n",
    "            f.write(cleantext)\n"
   ]
  },
  {
   "cell_type": "code",
   "execution_count": 9,
   "metadata": {
    "pycharm": {
     "is_executing": false
    }
   },
   "outputs": [],
   "source": [
    "# remove all the punctuations from the text\n",
    "def remove_punctuation(data):\n",
    "    data = re.sub(\"_\", \"\", data)\n",
    "    data = re.sub(\"[^\\w\\s]\", \"\", data)\n",
    "    data = re.sub(' +', ' ', data)\n",
    "\n",
    "    return data\n",
    "\n",
    "\n"
   ]
  },
  {
   "cell_type": "code",
   "execution_count": 14,
   "metadata": {
    "pycharm": {
     "is_executing": false
    }
   },
   "outputs": [],
   "source": [
    "import spacy\n",
    "import os\n",
    "import numpy as np\n",
    "import scipy.spatial.distance as distance\n",
    "import gensim\n",
    "from collections import defaultdict\n",
    "import re\n",
    "from src.preprocess import remove_punctuation\n",
    "from sklearn.neighbors import KNeighborsClassifier\n",
    "import math\n",
    "\n",
    "\n",
    "word2vec = gensim.models.KeyedVectors.load_word2vec_format(\n",
    "    \"../data/GoogleNews-vectors-negative300.bin\", binary=True)\n",
    "nlp = spacy.load('en_core_web_sm')"
   ]
  },
  {
   "cell_type": "code",
   "execution_count": null,
   "metadata": {
    "pycharm": {
     "is_executing": false
    }
   },
   "outputs": [],
   "source": [
    "para2vec = gensim.models.KeyedVectors.load_doc2vec_format"
   ]
  },
  {
   "cell_type": "code",
   "execution_count": 27,
   "metadata": {
    "pycharm": {
     "is_executing": false
    }
   },
   "outputs": [],
   "source": [
    "CLASS_NUM = {'Data Retention' : 0,\n",
    " 'Data Security' : 1,\n",
    " 'Do Not Track' : 2,\n",
    " 'First Party Collection/Use' : 3,\n",
    " 'International and Specific Audiences' : 4,\n",
    " 'Policy Change' : 5,\n",
    " 'Third Party Sharing/Collection' : 6,\n",
    " 'User Access, Edit and Deletion' : 7,\n",
    " 'User Choice/Control' : 8,\n",
    " 'Other' : 9}"
   ]
  },
  {
   "cell_type": "markdown",
   "metadata": {},
   "source": [
    "## Word Weights"
   ]
  },
  {
   "cell_type": "code",
   "execution_count": 28,
   "metadata": {
    "pycharm": {
     "is_executing": false
    }
   },
   "outputs": [],
   "source": [
    "def word_weights(filepath):\n",
    "\n",
    "    with open(filepath) as f:\n",
    "        content = f.read()\n",
    "\n"
   ]
  },
  {
   "cell_type": "markdown",
   "metadata": {},
   "source": [
    "## Create Vectors"
   ]
  },
  {
   "cell_type": "code",
   "execution_count": null,
   "metadata": {
    "pycharm": {
     "is_executing": false
    }
   },
   "outputs": [],
   "source": [
    "def get_sentence_vector(sentence):\n",
    "    print(\"Geting maximum sentence similarity of each sentence...\")\n",
    "    word2vec_dict = word2vec.vocab.keys()\n",
    "\n",
    "    wordvecs = []\n",
    "    # sentence = nlp(sentence)\n",
    "    for word in sentence:\n",
    "        # Words in a summary that are not covered by Word2Vec are discarded.\n",
    "        word = str(word).lower()\n",
    "        if word in word2vec_dict:\n",
    "            wordvecs.append(word2vec[word])\n",
    "\n",
    "    wordvecs = np.array(wordvecs)\n",
    "    # represent each sentence as average of its word embedding\n",
    "    sentence_score = np.mean(wordvecs, axis=0)\n",
    "\n",
    "\n",
    "    return sentence_score\n",
    "\n"
   ]
  },
  {
   "cell_type": "code",
   "execution_count": 29,
   "metadata": {
    "pycharm": {
     "is_executing": false
    }
   },
   "outputs": [],
   "source": [
    "# TODO: Modify explanation\n",
    "\n",
    "\n",
    "#  Paragraph2Vec technique includes several different algorithm. \n",
    "# The only difference from word2vec is inclusion of documents along with words as input nodes. \n",
    "# P2V neural net has input nodes representing documents in the training data (see fig 2).\n",
    "# The rationale behind including documents as input nodes is based upon considering documents as another context. \n",
    "# In this abstract sense of context there is no difference between a word and a document. \n",
    "# At the time of training we consider (context set, target) pairs as in word2vec, however,\n",
    "# for P2V document is also considered a member of the context set.\n",
    "# The objective function and the training update steps are exactly the same as word2vec.\n",
    "\n",
    "def get_paragraph_vector(paragraph):\n",
    "#     print(\"Vectorizing Paragraph\")\n",
    "    word2vec_dict = word2vec.vocab.keys()\n",
    "    sentences = nlp(paragraph)\n",
    "\n",
    "    wordvecs = []\n",
    "    # sentence = nlp(sentence)\n",
    "    for word in sentences:\n",
    "        # Words in a summary that are not covered by Word2Vec are discarded.\n",
    "        word = str(word.text).lower()\n",
    "        if word in word2vec_dict:\n",
    "            wordvecs.append(word2vec[word])\n",
    "\n",
    "    wordvecs = np.array(wordvecs)\n",
    "    # represent each sentence as average of its word embedding\n",
    "    paragraph_score = np.mean(wordvecs, axis=0)\n",
    "\n",
    "\n",
    "    return paragraph_score\n",
    "\n"
   ]
  },
  {
   "cell_type": "code",
   "execution_count": null,
   "metadata": {
    "pycharm": {
     "is_executing": false
    }
   },
   "outputs": [],
   "source": []
  },
  {
   "cell_type": "markdown",
   "metadata": {},
   "source": [
    "## Baseline Model"
   ]
  },
  {
   "cell_type": "code",
   "execution_count": null,
   "metadata": {
    "pycharm": {
     "is_executing": false
    }
   },
   "outputs": [],
   "source": [
    "def calculate_sentence_sim(s1):\n",
    "    #       - Statement 1 (Clear Purpose): For what purposes does the company use personal information?\n",
    "    #     # - Statement 2 (Third Parties): Does the company share my information with third parties?\n",
    "    #     # - Statement 3 (Limited Collection): Does the company combine my information with data from other sources?\n",
    "    #     # - Statement 4 (Limited Use): Will the company sell, re-package or commercialize my data?\n",
    "    #     # - Statement 5 (Retention): Will the company retain my data? What is their retention policy?\n",
    "\n",
    "    s  = get_sentence_vector(s1)\n",
    "    c1 = get_sentence_vector(nlp(remove_punctuation(\"For what purposes does the company use personal information?\")))\n",
    "    c2 = get_sentence_vector(nlp(remove_punctuation(\"Does the company share my information with third parties?\")))\n",
    "    c3 = get_sentence_vector(nlp(remove_punctuation(\"Does the company combine my information with data from other sources?\")))\n",
    "    c4 = get_sentence_vector(nlp(remove_punctuation(\"Will the company sell, re-package or commercialize my data?\")))\n",
    "    c5 = get_sentence_vector(nlp(remove_punctuation(\"Will the company retain my data? What is their retention policy?\")))\n",
    "\n",
    "    res = [0] * 5\n",
    "    res[0] = 1 - distance.cosine(s, c1)\n",
    "    res[1] = 1 - distance.cosine(s, c2)\n",
    "    res[2] = 1 - distance.cosine(s, c3)\n",
    "    res[3] = 1 - distance.cosine(s, c4)\n",
    "    res[4] = 1 - distance.cosine(s, c5)\n",
    "\n",
    "    return res"
   ]
  },
  {
   "cell_type": "markdown",
   "metadata": {},
   "source": [
    "## KNeighborsClassifier  Model"
   ]
  },
  {
   "cell_type": "code",
   "execution_count": 30,
   "metadata": {
    "pycharm": {
     "is_executing": false
    }
   },
   "outputs": [],
   "source": [
    "## Get Train Data\n",
    "import json\n",
    "\n",
    "with open('../data/notags_policies/sample_train/parsed_policies.txt') as f:\n",
    "    all_policies = json.loads(f.read())\n",
    "\n"
   ]
  },
  {
   "cell_type": "code",
   "execution_count": 31,
   "metadata": {
    "pycharm": {
     "is_executing": false
    }
   },
   "outputs": [],
   "source": [
    "def get_vector_for_policy(data, training_files):\n",
    "    para_dict = {}\n",
    "    \n",
    "    for filename in training_files:\n",
    "        for key in data[filename]:\n",
    "            para_dict[key] = CLASS_NUM[data[filename][key]]\n",
    "\n",
    "    return para_dict\n",
    "\n"
   ]
  },
  {
   "cell_type": "code",
   "execution_count": 32,
   "metadata": {
    "pycharm": {
     "is_executing": false
    }
   },
   "outputs": [],
   "source": [
    "def get_k_fold_cross_validation(classifier, X, Y, K):\n",
    "    res = []\n",
    "    scores = []\n",
    "    for k in range(K):\n",
    "        train_x = [x for i, x in enumerate(X) if i % K != k]\n",
    "        train_y = [y for i, y in enumerate(Y) if i % K != k]\n",
    "\n",
    "        validate_x = [x for i, x in enumerate(X) if i % K == k]\n",
    "        validate_y = [y for i, y in enumerate(Y) if i % K == k]\n",
    "        res.append(((train_x, train_y), (validate_x, validate_y)))\n",
    "\n",
    "    for train, validate in res:\n",
    "        classifier.fit(train[0], train[1])\n",
    "        score = classifier.score(validate[0], validate[1])\n",
    "        scores.append(score)\n",
    "\n",
    "    return np.array(scores).mean()"
   ]
  },
  {
   "cell_type": "code",
   "execution_count": 33,
   "metadata": {
    "pycharm": {
     "is_executing": false
    }
   },
   "outputs": [],
   "source": [
    "with open('../data/notags_policies/sample_train/train_list.txt') as f:\n",
    "    content = f.read()\n",
    "content\n",
    "\n",
    "training_files = [\"414_washingtonian.com.csv\", \"856_sciencemag.org.csv\", \"70_meredith.com.csv\", \"1636_sidearmsports.com.csv\", \"1224_austincc.edu.csv\", \"1510_jibjab.com.csv\", \"453_barnesandnoble.com.csv\", \"1099_enthusiastnetwork.com.csv\", \"98_neworleansonline.com.csv\", \"59_liquor.com.csv\", \"940_internetbrands.com.csv\", \"883_ted.com.csv\", \"82_sheknows.com.csv\", \"394_newsbusters.org.csv\", \"164_adweek.com.csv\", \"33_nbcuniversal.com.csv\", \"640_gamestop.com.csv\", \"652_randomhouse.com.csv\", \"1618_sltrib.com.csv\", \"1713_latinpost.com.csv\", \"891_everydayhealth.com.csv\", \"105_amazon.com.csv\", \"303_reddit.com.csv\", \"58_esquire.com.csv\", \"591_google.com.csv\", \"207_reference.com.csv\", \"32_voxmedia.com.csv\", \"1050_honda.com.csv\", \"144_style.com.csv\", \"807_lodgemfg.com.csv\", \"1034_aol.com.csv\", \"1089_freep.com.csv\", \"1164_acbj.com.csv\", \"517_kaleidahealth.org.csv\", \"1694_lids.com.csv\", \"1028_redorbit.com.csv\", \"1419_miaminewtimes.com.csv\", \"1468_rockstargames.com.csv\", \"1683_dailynews.com.csv\", \"746_kraftrecipes.com.csv\", \"348_walmart.com.csv\", \"928_stlouisfed.org.csv\", \"21_imdb.com.csv\", \"320_timeinc.com.csv\", \"20_theatlantic.com.csv\", \"202_foodallergy.org.csv\", \"26_nytimes.com.csv\", \"1666_wsmv.com.csv\", \"1070_wnep.com.csv\", \"686_military.com.csv\", \"1539_geocaching.com.csv\", \"641_cbsinteractive.com.csv\", \"200_washingtonpost.com.csv\", \"135_instagram.com.csv\", \"1360_thehill.com.csv\", \"1306_chasepaymentech.com.csv\", \"1470_steampowered.com.csv\", \"186_abcnews.com.csv\", \"1610_post-gazette.com.csv\", \"1708_foxsports.com.csv\", \"635_playstation.com.csv\", \"175_mlb.mlb.com.csv\", \"541_ifsa-butler.org.csv\", \"359_vikings.com.csv\", \"1259_fool.com.csv\", \"133_fortune.com.csv\", \"1300_bankofamerica.com.csv\", \"962_lynda.com.csv\", \"1106_allstate.com.csv\", \"1582_msn.com.csv\"]"
   ]
  },
  {
   "cell_type": "code",
   "execution_count": 34,
   "metadata": {
    "pycharm": {
     "is_executing": false
    }
   },
   "outputs": [
    {
     "name": "stderr",
     "output_type": "stream",
     "text": [
      "/Users/vaishnavihire/PycharmProjects/DS2000_grading/venv/lib/python3.7/site-packages/numpy/core/fromnumeric.py:3257: RuntimeWarning: Mean of empty slice.\n",
      "  out=out, **kwargs)\n",
      "/Users/vaishnavihire/PycharmProjects/DS2000_grading/venv/lib/python3.7/site-packages/numpy/core/_methods.py:161: RuntimeWarning: invalid value encountered in double_scalars\n",
      "  ret = ret.dtype.type(ret / rcount)\n"
     ]
    }
   ],
   "source": [
    "training_data = get_vector_for_policy(all_policies, training_files)\n",
    "t_data = {}\n",
    "for i in training_data:\n",
    "    if not np.isnan(get_paragraph_vector(i)).any():\n",
    "        t_data[i] = training_data[i]"
   ]
  },
  {
   "cell_type": "code",
   "execution_count": 35,
   "metadata": {
    "pycharm": {
     "is_executing": false
    }
   },
   "outputs": [
    {
     "data": {
      "text/plain": [
       "9130"
      ]
     },
     "execution_count": 35,
     "metadata": {},
     "output_type": "execute_result"
    }
   ],
   "source": [
    "len(t_data)\n"
   ]
  },
  {
   "cell_type": "code",
   "execution_count": 36,
   "metadata": {
    "pycharm": {
     "is_executing": false
    }
   },
   "outputs": [],
   "source": [
    "from sklearn.model_selection import GridSearchCV\n",
    "\n",
    "from sklearn.model_selection import cross_val_score\n",
    "import numpy as np\n",
    "\n",
    "\n",
    "def train_single_file(train_data):\n",
    "    x_data = []\n",
    "    for i in train_data.keys():\n",
    "        x_data.append(get_paragraph_vector(i))\n",
    "\n",
    "    y_data = list(train_data.values())\n",
    "    \n",
    "    \n",
    "    \n",
    "    scores = []\n",
    "    knns = []\n",
    "    for i in range(1, 10):\n",
    "        knn = KNeighborsClassifier(n_neighbors = i)\n",
    "        mean_score = get_k_fold_cross_validation(knn, x_data, y_data, 5)\n",
    "        scores.append(mean_score)\n",
    "        knns.append(knn)\n",
    "\n",
    "    index = np.argmax(scores)\n",
    "    \n",
    "    print(\"Grid search result:\")\n",
    "    print(scores[index])\n",
    "    print(scores)\n",
    "    return knns[index], x_data, y_data \n",
    "        "
   ]
  },
  {
   "cell_type": "code",
   "execution_count": 37,
   "metadata": {
    "pycharm": {
     "is_executing": false
    }
   },
   "outputs": [
    {
     "name": "stdout",
     "output_type": "stream",
     "text": [
      "Grid search result:\n",
      "0.6901423877327492\n",
      "[0.6901423877327492, 0.6698795180722892, 0.682803943044907, 0.6851040525739321, 0.6826944140197153, 0.6772179627601315, 0.6757940854326396, 0.672617743702081, 0.6662650602409639]\n"
     ]
    }
   ],
   "source": [
    "knn_gscv, x_data, y_data = train_single_file(t_data)"
   ]
  },
  {
   "cell_type": "code",
   "execution_count": 38,
   "metadata": {
    "pycharm": {
     "is_executing": false
    }
   },
   "outputs": [],
   "source": [
    "para_test_dict = {}\n",
    "\n",
    "for filename in all_policies.keys():\n",
    "    if filename not in training_files:\n",
    "        for key in all_policies[filename]:\n",
    "            para_test_dict[key] = CLASS_NUM[all_policies[filename][key]]\n",
    "\n",
    "\n",
    "\n",
    "\n"
   ]
  },
  {
   "cell_type": "code",
   "execution_count": 40,
   "metadata": {
    "pycharm": {
     "is_executing": false
    }
   },
   "outputs": [
    {
     "name": "stderr",
     "output_type": "stream",
     "text": [
      "/Users/vaishnavihire/PycharmProjects/DS2000_grading/venv/lib/python3.7/site-packages/numpy/core/fromnumeric.py:3257: RuntimeWarning: Mean of empty slice.\n",
      "  out=out, **kwargs)\n",
      "/Users/vaishnavihire/PycharmProjects/DS2000_grading/venv/lib/python3.7/site-packages/numpy/core/_methods.py:161: RuntimeWarning: invalid value encountered in double_scalars\n",
      "  ret = ret.dtype.type(ret / rcount)\n",
      "/Users/vaishnavihire/PycharmProjects/DS2000_grading/venv/lib/python3.7/site-packages/numpy/core/fromnumeric.py:3257: RuntimeWarning: Mean of empty slice.\n",
      "  out=out, **kwargs)\n",
      "/Users/vaishnavihire/PycharmProjects/DS2000_grading/venv/lib/python3.7/site-packages/numpy/core/_methods.py:161: RuntimeWarning: invalid value encountered in double_scalars\n",
      "  ret = ret.dtype.type(ret / rcount)\n",
      "/Users/vaishnavihire/PycharmProjects/DS2000_grading/venv/lib/python3.7/site-packages/numpy/core/fromnumeric.py:3257: RuntimeWarning: Mean of empty slice.\n",
      "  out=out, **kwargs)\n",
      "/Users/vaishnavihire/PycharmProjects/DS2000_grading/venv/lib/python3.7/site-packages/numpy/core/_methods.py:161: RuntimeWarning: invalid value encountered in double_scalars\n",
      "  ret = ret.dtype.type(ret / rcount)\n",
      "/Users/vaishnavihire/PycharmProjects/DS2000_grading/venv/lib/python3.7/site-packages/numpy/core/fromnumeric.py:3257: RuntimeWarning: Mean of empty slice.\n",
      "  out=out, **kwargs)\n",
      "/Users/vaishnavihire/PycharmProjects/DS2000_grading/venv/lib/python3.7/site-packages/numpy/core/_methods.py:161: RuntimeWarning: invalid value encountered in double_scalars\n",
      "  ret = ret.dtype.type(ret / rcount)\n",
      "/Users/vaishnavihire/PycharmProjects/DS2000_grading/venv/lib/python3.7/site-packages/numpy/core/fromnumeric.py:3257: RuntimeWarning: Mean of empty slice.\n",
      "  out=out, **kwargs)\n",
      "/Users/vaishnavihire/PycharmProjects/DS2000_grading/venv/lib/python3.7/site-packages/numpy/core/_methods.py:161: RuntimeWarning: invalid value encountered in double_scalars\n",
      "  ret = ret.dtype.type(ret / rcount)\n",
      "/Users/vaishnavihire/PycharmProjects/DS2000_grading/venv/lib/python3.7/site-packages/numpy/core/fromnumeric.py:3257: RuntimeWarning: Mean of empty slice.\n",
      "  out=out, **kwargs)\n",
      "/Users/vaishnavihire/PycharmProjects/DS2000_grading/venv/lib/python3.7/site-packages/numpy/core/_methods.py:161: RuntimeWarning: invalid value encountered in double_scalars\n",
      "  ret = ret.dtype.type(ret / rcount)\n",
      "/Users/vaishnavihire/PycharmProjects/DS2000_grading/venv/lib/python3.7/site-packages/numpy/core/fromnumeric.py:3257: RuntimeWarning: Mean of empty slice.\n",
      "  out=out, **kwargs)\n",
      "/Users/vaishnavihire/PycharmProjects/DS2000_grading/venv/lib/python3.7/site-packages/numpy/core/_methods.py:161: RuntimeWarning: invalid value encountered in double_scalars\n",
      "  ret = ret.dtype.type(ret / rcount)\n",
      "/Users/vaishnavihire/PycharmProjects/DS2000_grading/venv/lib/python3.7/site-packages/numpy/core/fromnumeric.py:3257: RuntimeWarning: Mean of empty slice.\n",
      "  out=out, **kwargs)\n",
      "/Users/vaishnavihire/PycharmProjects/DS2000_grading/venv/lib/python3.7/site-packages/numpy/core/_methods.py:161: RuntimeWarning: invalid value encountered in double_scalars\n",
      "  ret = ret.dtype.type(ret / rcount)\n",
      "/Users/vaishnavihire/PycharmProjects/DS2000_grading/venv/lib/python3.7/site-packages/numpy/core/fromnumeric.py:3257: RuntimeWarning: Mean of empty slice.\n",
      "  out=out, **kwargs)\n",
      "/Users/vaishnavihire/PycharmProjects/DS2000_grading/venv/lib/python3.7/site-packages/numpy/core/_methods.py:161: RuntimeWarning: invalid value encountered in double_scalars\n",
      "  ret = ret.dtype.type(ret / rcount)\n",
      "/Users/vaishnavihire/PycharmProjects/DS2000_grading/venv/lib/python3.7/site-packages/numpy/core/fromnumeric.py:3257: RuntimeWarning: Mean of empty slice.\n",
      "  out=out, **kwargs)\n",
      "/Users/vaishnavihire/PycharmProjects/DS2000_grading/venv/lib/python3.7/site-packages/numpy/core/_methods.py:161: RuntimeWarning: invalid value encountered in double_scalars\n",
      "  ret = ret.dtype.type(ret / rcount)\n",
      "/Users/vaishnavihire/PycharmProjects/DS2000_grading/venv/lib/python3.7/site-packages/numpy/core/fromnumeric.py:3257: RuntimeWarning: Mean of empty slice.\n",
      "  out=out, **kwargs)\n",
      "/Users/vaishnavihire/PycharmProjects/DS2000_grading/venv/lib/python3.7/site-packages/numpy/core/_methods.py:161: RuntimeWarning: invalid value encountered in double_scalars\n",
      "  ret = ret.dtype.type(ret / rcount)\n",
      "/Users/vaishnavihire/PycharmProjects/DS2000_grading/venv/lib/python3.7/site-packages/numpy/core/fromnumeric.py:3257: RuntimeWarning: Mean of empty slice.\n",
      "  out=out, **kwargs)\n",
      "/Users/vaishnavihire/PycharmProjects/DS2000_grading/venv/lib/python3.7/site-packages/numpy/core/_methods.py:161: RuntimeWarning: invalid value encountered in double_scalars\n",
      "  ret = ret.dtype.type(ret / rcount)\n",
      "/Users/vaishnavihire/PycharmProjects/DS2000_grading/venv/lib/python3.7/site-packages/numpy/core/fromnumeric.py:3257: RuntimeWarning: Mean of empty slice.\n",
      "  out=out, **kwargs)\n",
      "/Users/vaishnavihire/PycharmProjects/DS2000_grading/venv/lib/python3.7/site-packages/numpy/core/_methods.py:161: RuntimeWarning: invalid value encountered in double_scalars\n",
      "  ret = ret.dtype.type(ret / rcount)\n",
      "/Users/vaishnavihire/PycharmProjects/DS2000_grading/venv/lib/python3.7/site-packages/numpy/core/fromnumeric.py:3257: RuntimeWarning: Mean of empty slice.\n",
      "  out=out, **kwargs)\n",
      "/Users/vaishnavihire/PycharmProjects/DS2000_grading/venv/lib/python3.7/site-packages/numpy/core/_methods.py:161: RuntimeWarning: invalid value encountered in double_scalars\n",
      "  ret = ret.dtype.type(ret / rcount)\n",
      "/Users/vaishnavihire/PycharmProjects/DS2000_grading/venv/lib/python3.7/site-packages/numpy/core/fromnumeric.py:3257: RuntimeWarning: Mean of empty slice.\n",
      "  out=out, **kwargs)\n",
      "/Users/vaishnavihire/PycharmProjects/DS2000_grading/venv/lib/python3.7/site-packages/numpy/core/_methods.py:161: RuntimeWarning: invalid value encountered in double_scalars\n",
      "  ret = ret.dtype.type(ret / rcount)\n"
     ]
    }
   ],
   "source": [
    "y_predict = []\n",
    "\n",
    "for i in para_test_dict.keys():\n",
    "\n",
    "    if np.isnan(get_paragraph_vector(i)).any():\n",
    "        y_predict.append(9)\n",
    "    else:\n",
    "        y_predict.append(knn_gscv.predict([get_paragraph_vector(i)]))"
   ]
  },
  {
   "cell_type": "code",
   "execution_count": null,
   "metadata": {
    "pycharm": {
     "is_executing": false
    }
   },
   "outputs": [],
   "source": []
  },
  {
   "cell_type": "code",
   "execution_count": 41,
   "metadata": {
    "pycharm": {
     "is_executing": false
    }
   },
   "outputs": [
    {
     "data": {
      "text/plain": [
       "2342"
      ]
     },
     "execution_count": 41,
     "metadata": {},
     "output_type": "execute_result"
    }
   ],
   "source": [
    "y_knn_predict = []\n",
    "for i in y_predict:\n",
    "    if isinstance(i, int):\n",
    "        y_knn_predict.append(i)    \n",
    "    else:\n",
    "        y_knn_predict.append(i[0])\n",
    "        \n",
    "y_knn_predict\n",
    "len(y_knn_predict)"
   ]
  },
  {
   "cell_type": "code",
   "execution_count": 42,
   "metadata": {
    "pycharm": {
     "is_executing": false
    }
   },
   "outputs": [],
   "source": [
    "data = [x_data, y_data ]"
   ]
  },
  {
   "cell_type": "markdown",
   "metadata": {},
   "source": [
    "## MLPClassifier Model"
   ]
  },
  {
   "cell_type": "code",
   "execution_count": 43,
   "metadata": {
    "pycharm": {
     "is_executing": false
    }
   },
   "outputs": [],
   "source": [
    "from sklearn.neural_network import MLPClassifier\n",
    "\n",
    "def optimize_parameters(data, noOfFirstHiddenLayer, maxIter, learningRateInit):\n",
    "    nf = noOfFirstHiddenLayer\n",
    "    mi = maxIter\n",
    "    lr = learningRateInit\n",
    "    params = [[x, y, 10 ** z]\n",
    "              for x in range(nf[0], nf[1] + nf[2], nf[2])\n",
    "              for y in range(mi[0], mi[1] + mi[2], mi[2])\n",
    "              for z in range(int(np.log10(lr[0])),\n",
    "                             int(np.log10(lr[1])) + lr[2],\n",
    "                             lr[2])]\n",
    "    scores = []\n",
    "    mlps = []\n",
    "    for param in params:\n",
    "        mlp = MLPClassifier((param[0], 10), max_iter=param[1],\n",
    "                            learning_rate_init=param[2])\n",
    "        mean_score = get_k_fold_cross_validation(mlp, data[0], data[1], 2)\n",
    "\n",
    "\n",
    "        scores.append(mean_score)\n",
    "        mlps.append(mlp)\n",
    "\n",
    "    index = np.argmax(scores)\n",
    "\n",
    "    print(\"Grid search result:\")\n",
    "\n",
    "    print(params[index])\n",
    "    print(scores[index])\n",
    "    return mlps[index]"
   ]
  },
  {
   "cell_type": "code",
   "execution_count": 44,
   "metadata": {
    "pycharm": {
     "is_executing": false
    }
   },
   "outputs": [
    {
     "name": "stderr",
     "output_type": "stream",
     "text": [
      "/Users/vaishnavihire/PycharmProjects/DS2000_grading/venv/lib/python3.7/site-packages/sklearn/neural_network/multilayer_perceptron.py:566: ConvergenceWarning: Stochastic Optimizer: Maximum iterations (200) reached and the optimization hasn't converged yet.\n",
      "  % self.max_iter, ConvergenceWarning)\n",
      "/Users/vaishnavihire/PycharmProjects/DS2000_grading/venv/lib/python3.7/site-packages/sklearn/neural_network/multilayer_perceptron.py:566: ConvergenceWarning: Stochastic Optimizer: Maximum iterations (200) reached and the optimization hasn't converged yet.\n",
      "  % self.max_iter, ConvergenceWarning)\n",
      "/Users/vaishnavihire/PycharmProjects/DS2000_grading/venv/lib/python3.7/site-packages/sklearn/neural_network/multilayer_perceptron.py:566: ConvergenceWarning: Stochastic Optimizer: Maximum iterations (300) reached and the optimization hasn't converged yet.\n",
      "  % self.max_iter, ConvergenceWarning)\n",
      "/Users/vaishnavihire/PycharmProjects/DS2000_grading/venv/lib/python3.7/site-packages/sklearn/neural_network/multilayer_perceptron.py:566: ConvergenceWarning: Stochastic Optimizer: Maximum iterations (300) reached and the optimization hasn't converged yet.\n",
      "  % self.max_iter, ConvergenceWarning)\n",
      "/Users/vaishnavihire/PycharmProjects/DS2000_grading/venv/lib/python3.7/site-packages/sklearn/neural_network/multilayer_perceptron.py:566: ConvergenceWarning: Stochastic Optimizer: Maximum iterations (400) reached and the optimization hasn't converged yet.\n",
      "  % self.max_iter, ConvergenceWarning)\n",
      "/Users/vaishnavihire/PycharmProjects/DS2000_grading/venv/lib/python3.7/site-packages/sklearn/neural_network/multilayer_perceptron.py:566: ConvergenceWarning: Stochastic Optimizer: Maximum iterations (200) reached and the optimization hasn't converged yet.\n",
      "  % self.max_iter, ConvergenceWarning)\n",
      "/Users/vaishnavihire/PycharmProjects/DS2000_grading/venv/lib/python3.7/site-packages/sklearn/neural_network/multilayer_perceptron.py:566: ConvergenceWarning: Stochastic Optimizer: Maximum iterations (200) reached and the optimization hasn't converged yet.\n",
      "  % self.max_iter, ConvergenceWarning)\n",
      "/Users/vaishnavihire/PycharmProjects/DS2000_grading/venv/lib/python3.7/site-packages/sklearn/neural_network/multilayer_perceptron.py:566: ConvergenceWarning: Stochastic Optimizer: Maximum iterations (300) reached and the optimization hasn't converged yet.\n",
      "  % self.max_iter, ConvergenceWarning)\n",
      "/Users/vaishnavihire/PycharmProjects/DS2000_grading/venv/lib/python3.7/site-packages/sklearn/neural_network/multilayer_perceptron.py:566: ConvergenceWarning: Stochastic Optimizer: Maximum iterations (300) reached and the optimization hasn't converged yet.\n",
      "  % self.max_iter, ConvergenceWarning)\n",
      "/Users/vaishnavihire/PycharmProjects/DS2000_grading/venv/lib/python3.7/site-packages/sklearn/neural_network/multilayer_perceptron.py:566: ConvergenceWarning: Stochastic Optimizer: Maximum iterations (400) reached and the optimization hasn't converged yet.\n",
      "  % self.max_iter, ConvergenceWarning)\n",
      "/Users/vaishnavihire/PycharmProjects/DS2000_grading/venv/lib/python3.7/site-packages/sklearn/neural_network/multilayer_perceptron.py:566: ConvergenceWarning: Stochastic Optimizer: Maximum iterations (200) reached and the optimization hasn't converged yet.\n",
      "  % self.max_iter, ConvergenceWarning)\n",
      "/Users/vaishnavihire/PycharmProjects/DS2000_grading/venv/lib/python3.7/site-packages/sklearn/neural_network/multilayer_perceptron.py:566: ConvergenceWarning: Stochastic Optimizer: Maximum iterations (200) reached and the optimization hasn't converged yet.\n",
      "  % self.max_iter, ConvergenceWarning)\n",
      "/Users/vaishnavihire/PycharmProjects/DS2000_grading/venv/lib/python3.7/site-packages/sklearn/neural_network/multilayer_perceptron.py:566: ConvergenceWarning: Stochastic Optimizer: Maximum iterations (300) reached and the optimization hasn't converged yet.\n",
      "  % self.max_iter, ConvergenceWarning)\n",
      "/Users/vaishnavihire/PycharmProjects/DS2000_grading/venv/lib/python3.7/site-packages/sklearn/neural_network/multilayer_perceptron.py:566: ConvergenceWarning: Stochastic Optimizer: Maximum iterations (300) reached and the optimization hasn't converged yet.\n",
      "  % self.max_iter, ConvergenceWarning)\n",
      "/Users/vaishnavihire/PycharmProjects/DS2000_grading/venv/lib/python3.7/site-packages/sklearn/neural_network/multilayer_perceptron.py:566: ConvergenceWarning: Stochastic Optimizer: Maximum iterations (200) reached and the optimization hasn't converged yet.\n",
      "  % self.max_iter, ConvergenceWarning)\n",
      "/Users/vaishnavihire/PycharmProjects/DS2000_grading/venv/lib/python3.7/site-packages/sklearn/neural_network/multilayer_perceptron.py:566: ConvergenceWarning: Stochastic Optimizer: Maximum iterations (200) reached and the optimization hasn't converged yet.\n",
      "  % self.max_iter, ConvergenceWarning)\n",
      "/Users/vaishnavihire/PycharmProjects/DS2000_grading/venv/lib/python3.7/site-packages/sklearn/neural_network/multilayer_perceptron.py:566: ConvergenceWarning: Stochastic Optimizer: Maximum iterations (300) reached and the optimization hasn't converged yet.\n",
      "  % self.max_iter, ConvergenceWarning)\n",
      "/Users/vaishnavihire/PycharmProjects/DS2000_grading/venv/lib/python3.7/site-packages/sklearn/neural_network/multilayer_perceptron.py:566: ConvergenceWarning: Stochastic Optimizer: Maximum iterations (300) reached and the optimization hasn't converged yet.\n",
      "  % self.max_iter, ConvergenceWarning)\n"
     ]
    },
    {
     "name": "stdout",
     "output_type": "stream",
     "text": [
      "Grid search result:\n",
      "[110, 200, 0.001]\n",
      "0.7051478641840088\n"
     ]
    }
   ],
   "source": [
    "mlp_model = optimize_parameters(data, [100,130, 10],[200, 400, 100], [0.001, 0.1, 1])"
   ]
  },
  {
   "cell_type": "code",
   "execution_count": 45,
   "metadata": {
    "pycharm": {
     "is_executing": false
    }
   },
   "outputs": [
    {
     "name": "stderr",
     "output_type": "stream",
     "text": [
      "/Users/vaishnavihire/PycharmProjects/DS2000_grading/venv/lib/python3.7/site-packages/numpy/core/fromnumeric.py:3257: RuntimeWarning: Mean of empty slice.\n",
      "  out=out, **kwargs)\n",
      "/Users/vaishnavihire/PycharmProjects/DS2000_grading/venv/lib/python3.7/site-packages/numpy/core/_methods.py:161: RuntimeWarning: invalid value encountered in double_scalars\n",
      "  ret = ret.dtype.type(ret / rcount)\n",
      "/Users/vaishnavihire/PycharmProjects/DS2000_grading/venv/lib/python3.7/site-packages/numpy/core/fromnumeric.py:3257: RuntimeWarning: Mean of empty slice.\n",
      "  out=out, **kwargs)\n",
      "/Users/vaishnavihire/PycharmProjects/DS2000_grading/venv/lib/python3.7/site-packages/numpy/core/_methods.py:161: RuntimeWarning: invalid value encountered in double_scalars\n",
      "  ret = ret.dtype.type(ret / rcount)\n",
      "/Users/vaishnavihire/PycharmProjects/DS2000_grading/venv/lib/python3.7/site-packages/numpy/core/fromnumeric.py:3257: RuntimeWarning: Mean of empty slice.\n",
      "  out=out, **kwargs)\n",
      "/Users/vaishnavihire/PycharmProjects/DS2000_grading/venv/lib/python3.7/site-packages/numpy/core/_methods.py:161: RuntimeWarning: invalid value encountered in double_scalars\n",
      "  ret = ret.dtype.type(ret / rcount)\n",
      "/Users/vaishnavihire/PycharmProjects/DS2000_grading/venv/lib/python3.7/site-packages/numpy/core/fromnumeric.py:3257: RuntimeWarning: Mean of empty slice.\n",
      "  out=out, **kwargs)\n",
      "/Users/vaishnavihire/PycharmProjects/DS2000_grading/venv/lib/python3.7/site-packages/numpy/core/_methods.py:161: RuntimeWarning: invalid value encountered in double_scalars\n",
      "  ret = ret.dtype.type(ret / rcount)\n",
      "/Users/vaishnavihire/PycharmProjects/DS2000_grading/venv/lib/python3.7/site-packages/numpy/core/fromnumeric.py:3257: RuntimeWarning: Mean of empty slice.\n",
      "  out=out, **kwargs)\n",
      "/Users/vaishnavihire/PycharmProjects/DS2000_grading/venv/lib/python3.7/site-packages/numpy/core/_methods.py:161: RuntimeWarning: invalid value encountered in double_scalars\n",
      "  ret = ret.dtype.type(ret / rcount)\n",
      "/Users/vaishnavihire/PycharmProjects/DS2000_grading/venv/lib/python3.7/site-packages/numpy/core/fromnumeric.py:3257: RuntimeWarning: Mean of empty slice.\n",
      "  out=out, **kwargs)\n",
      "/Users/vaishnavihire/PycharmProjects/DS2000_grading/venv/lib/python3.7/site-packages/numpy/core/_methods.py:161: RuntimeWarning: invalid value encountered in double_scalars\n",
      "  ret = ret.dtype.type(ret / rcount)\n",
      "/Users/vaishnavihire/PycharmProjects/DS2000_grading/venv/lib/python3.7/site-packages/numpy/core/fromnumeric.py:3257: RuntimeWarning: Mean of empty slice.\n",
      "  out=out, **kwargs)\n",
      "/Users/vaishnavihire/PycharmProjects/DS2000_grading/venv/lib/python3.7/site-packages/numpy/core/_methods.py:161: RuntimeWarning: invalid value encountered in double_scalars\n",
      "  ret = ret.dtype.type(ret / rcount)\n",
      "/Users/vaishnavihire/PycharmProjects/DS2000_grading/venv/lib/python3.7/site-packages/numpy/core/fromnumeric.py:3257: RuntimeWarning: Mean of empty slice.\n",
      "  out=out, **kwargs)\n",
      "/Users/vaishnavihire/PycharmProjects/DS2000_grading/venv/lib/python3.7/site-packages/numpy/core/_methods.py:161: RuntimeWarning: invalid value encountered in double_scalars\n",
      "  ret = ret.dtype.type(ret / rcount)\n",
      "/Users/vaishnavihire/PycharmProjects/DS2000_grading/venv/lib/python3.7/site-packages/numpy/core/fromnumeric.py:3257: RuntimeWarning: Mean of empty slice.\n",
      "  out=out, **kwargs)\n",
      "/Users/vaishnavihire/PycharmProjects/DS2000_grading/venv/lib/python3.7/site-packages/numpy/core/_methods.py:161: RuntimeWarning: invalid value encountered in double_scalars\n",
      "  ret = ret.dtype.type(ret / rcount)\n",
      "/Users/vaishnavihire/PycharmProjects/DS2000_grading/venv/lib/python3.7/site-packages/numpy/core/fromnumeric.py:3257: RuntimeWarning: Mean of empty slice.\n",
      "  out=out, **kwargs)\n",
      "/Users/vaishnavihire/PycharmProjects/DS2000_grading/venv/lib/python3.7/site-packages/numpy/core/_methods.py:161: RuntimeWarning: invalid value encountered in double_scalars\n",
      "  ret = ret.dtype.type(ret / rcount)\n",
      "/Users/vaishnavihire/PycharmProjects/DS2000_grading/venv/lib/python3.7/site-packages/numpy/core/fromnumeric.py:3257: RuntimeWarning: Mean of empty slice.\n",
      "  out=out, **kwargs)\n",
      "/Users/vaishnavihire/PycharmProjects/DS2000_grading/venv/lib/python3.7/site-packages/numpy/core/_methods.py:161: RuntimeWarning: invalid value encountered in double_scalars\n",
      "  ret = ret.dtype.type(ret / rcount)\n",
      "/Users/vaishnavihire/PycharmProjects/DS2000_grading/venv/lib/python3.7/site-packages/numpy/core/fromnumeric.py:3257: RuntimeWarning: Mean of empty slice.\n",
      "  out=out, **kwargs)\n",
      "/Users/vaishnavihire/PycharmProjects/DS2000_grading/venv/lib/python3.7/site-packages/numpy/core/_methods.py:161: RuntimeWarning: invalid value encountered in double_scalars\n",
      "  ret = ret.dtype.type(ret / rcount)\n",
      "/Users/vaishnavihire/PycharmProjects/DS2000_grading/venv/lib/python3.7/site-packages/numpy/core/fromnumeric.py:3257: RuntimeWarning: Mean of empty slice.\n",
      "  out=out, **kwargs)\n",
      "/Users/vaishnavihire/PycharmProjects/DS2000_grading/venv/lib/python3.7/site-packages/numpy/core/_methods.py:161: RuntimeWarning: invalid value encountered in double_scalars\n",
      "  ret = ret.dtype.type(ret / rcount)\n",
      "/Users/vaishnavihire/PycharmProjects/DS2000_grading/venv/lib/python3.7/site-packages/numpy/core/fromnumeric.py:3257: RuntimeWarning: Mean of empty slice.\n",
      "  out=out, **kwargs)\n",
      "/Users/vaishnavihire/PycharmProjects/DS2000_grading/venv/lib/python3.7/site-packages/numpy/core/_methods.py:161: RuntimeWarning: invalid value encountered in double_scalars\n",
      "  ret = ret.dtype.type(ret / rcount)\n",
      "/Users/vaishnavihire/PycharmProjects/DS2000_grading/venv/lib/python3.7/site-packages/numpy/core/fromnumeric.py:3257: RuntimeWarning: Mean of empty slice.\n",
      "  out=out, **kwargs)\n",
      "/Users/vaishnavihire/PycharmProjects/DS2000_grading/venv/lib/python3.7/site-packages/numpy/core/_methods.py:161: RuntimeWarning: invalid value encountered in double_scalars\n",
      "  ret = ret.dtype.type(ret / rcount)\n"
     ]
    }
   ],
   "source": [
    "y_m_predict = []\n",
    "\n",
    "for i in para_test_dict.keys():\n",
    "\n",
    "    if np.isnan(get_paragraph_vector(i)).any():\n",
    "        y_m_predict.append(9)\n",
    "    else:\n",
    "        y_m_predict.append(mlp_model.predict([get_paragraph_vector(i)]))"
   ]
  },
  {
   "cell_type": "code",
   "execution_count": 46,
   "metadata": {
    "pycharm": {
     "is_executing": false
    }
   },
   "outputs": [
    {
     "data": {
      "text/plain": [
       "2342"
      ]
     },
     "execution_count": 46,
     "metadata": {},
     "output_type": "execute_result"
    }
   ],
   "source": [
    "y_mlp_predict = []\n",
    "for i in y_m_predict:\n",
    "    if isinstance(i, int):\n",
    "        y_mlp_predict.append(i)    \n",
    "    else:\n",
    "        y_mlp_predict.append(i[0])\n",
    "        \n",
    "\n",
    "len(y_mlp_predict)"
   ]
  },
  {
   "cell_type": "code",
   "execution_count": 47,
   "metadata": {
    "pycharm": {
     "is_executing": false
    }
   },
   "outputs": [
    {
     "data": {
      "text/plain": [
       "0.6610076670317634"
      ]
     },
     "execution_count": 47,
     "metadata": {},
     "output_type": "execute_result"
    }
   ],
   "source": [
    "from sklearn.discriminant_analysis import LinearDiscriminantAnalysis as LDA\n",
    "\n",
    "clf = LDA()\n",
    "mean_score = get_k_fold_cross_validation(clf, x_data, y_data, 5)\n",
    "\n",
    "mean_score\n"
   ]
  },
  {
   "cell_type": "code",
   "execution_count": 48,
   "metadata": {
    "pycharm": {
     "is_executing": false
    }
   },
   "outputs": [
    {
     "name": "stderr",
     "output_type": "stream",
     "text": [
      "/Users/vaishnavihire/PycharmProjects/DS2000_grading/venv/lib/python3.7/site-packages/numpy/core/fromnumeric.py:3257: RuntimeWarning: Mean of empty slice.\n",
      "  out=out, **kwargs)\n",
      "/Users/vaishnavihire/PycharmProjects/DS2000_grading/venv/lib/python3.7/site-packages/numpy/core/_methods.py:161: RuntimeWarning: invalid value encountered in double_scalars\n",
      "  ret = ret.dtype.type(ret / rcount)\n",
      "/Users/vaishnavihire/PycharmProjects/DS2000_grading/venv/lib/python3.7/site-packages/numpy/core/fromnumeric.py:3257: RuntimeWarning: Mean of empty slice.\n",
      "  out=out, **kwargs)\n",
      "/Users/vaishnavihire/PycharmProjects/DS2000_grading/venv/lib/python3.7/site-packages/numpy/core/_methods.py:161: RuntimeWarning: invalid value encountered in double_scalars\n",
      "  ret = ret.dtype.type(ret / rcount)\n",
      "/Users/vaishnavihire/PycharmProjects/DS2000_grading/venv/lib/python3.7/site-packages/numpy/core/fromnumeric.py:3257: RuntimeWarning: Mean of empty slice.\n",
      "  out=out, **kwargs)\n",
      "/Users/vaishnavihire/PycharmProjects/DS2000_grading/venv/lib/python3.7/site-packages/numpy/core/_methods.py:161: RuntimeWarning: invalid value encountered in double_scalars\n",
      "  ret = ret.dtype.type(ret / rcount)\n",
      "/Users/vaishnavihire/PycharmProjects/DS2000_grading/venv/lib/python3.7/site-packages/numpy/core/fromnumeric.py:3257: RuntimeWarning: Mean of empty slice.\n",
      "  out=out, **kwargs)\n",
      "/Users/vaishnavihire/PycharmProjects/DS2000_grading/venv/lib/python3.7/site-packages/numpy/core/_methods.py:161: RuntimeWarning: invalid value encountered in double_scalars\n",
      "  ret = ret.dtype.type(ret / rcount)\n",
      "/Users/vaishnavihire/PycharmProjects/DS2000_grading/venv/lib/python3.7/site-packages/numpy/core/fromnumeric.py:3257: RuntimeWarning: Mean of empty slice.\n",
      "  out=out, **kwargs)\n",
      "/Users/vaishnavihire/PycharmProjects/DS2000_grading/venv/lib/python3.7/site-packages/numpy/core/_methods.py:161: RuntimeWarning: invalid value encountered in double_scalars\n",
      "  ret = ret.dtype.type(ret / rcount)\n",
      "/Users/vaishnavihire/PycharmProjects/DS2000_grading/venv/lib/python3.7/site-packages/numpy/core/fromnumeric.py:3257: RuntimeWarning: Mean of empty slice.\n",
      "  out=out, **kwargs)\n",
      "/Users/vaishnavihire/PycharmProjects/DS2000_grading/venv/lib/python3.7/site-packages/numpy/core/_methods.py:161: RuntimeWarning: invalid value encountered in double_scalars\n",
      "  ret = ret.dtype.type(ret / rcount)\n",
      "/Users/vaishnavihire/PycharmProjects/DS2000_grading/venv/lib/python3.7/site-packages/numpy/core/fromnumeric.py:3257: RuntimeWarning: Mean of empty slice.\n",
      "  out=out, **kwargs)\n",
      "/Users/vaishnavihire/PycharmProjects/DS2000_grading/venv/lib/python3.7/site-packages/numpy/core/_methods.py:161: RuntimeWarning: invalid value encountered in double_scalars\n",
      "  ret = ret.dtype.type(ret / rcount)\n",
      "/Users/vaishnavihire/PycharmProjects/DS2000_grading/venv/lib/python3.7/site-packages/numpy/core/fromnumeric.py:3257: RuntimeWarning: Mean of empty slice.\n",
      "  out=out, **kwargs)\n",
      "/Users/vaishnavihire/PycharmProjects/DS2000_grading/venv/lib/python3.7/site-packages/numpy/core/_methods.py:161: RuntimeWarning: invalid value encountered in double_scalars\n",
      "  ret = ret.dtype.type(ret / rcount)\n",
      "/Users/vaishnavihire/PycharmProjects/DS2000_grading/venv/lib/python3.7/site-packages/numpy/core/fromnumeric.py:3257: RuntimeWarning: Mean of empty slice.\n",
      "  out=out, **kwargs)\n",
      "/Users/vaishnavihire/PycharmProjects/DS2000_grading/venv/lib/python3.7/site-packages/numpy/core/_methods.py:161: RuntimeWarning: invalid value encountered in double_scalars\n",
      "  ret = ret.dtype.type(ret / rcount)\n",
      "/Users/vaishnavihire/PycharmProjects/DS2000_grading/venv/lib/python3.7/site-packages/numpy/core/fromnumeric.py:3257: RuntimeWarning: Mean of empty slice.\n",
      "  out=out, **kwargs)\n",
      "/Users/vaishnavihire/PycharmProjects/DS2000_grading/venv/lib/python3.7/site-packages/numpy/core/_methods.py:161: RuntimeWarning: invalid value encountered in double_scalars\n",
      "  ret = ret.dtype.type(ret / rcount)\n",
      "/Users/vaishnavihire/PycharmProjects/DS2000_grading/venv/lib/python3.7/site-packages/numpy/core/fromnumeric.py:3257: RuntimeWarning: Mean of empty slice.\n",
      "  out=out, **kwargs)\n",
      "/Users/vaishnavihire/PycharmProjects/DS2000_grading/venv/lib/python3.7/site-packages/numpy/core/_methods.py:161: RuntimeWarning: invalid value encountered in double_scalars\n",
      "  ret = ret.dtype.type(ret / rcount)\n",
      "/Users/vaishnavihire/PycharmProjects/DS2000_grading/venv/lib/python3.7/site-packages/numpy/core/fromnumeric.py:3257: RuntimeWarning: Mean of empty slice.\n",
      "  out=out, **kwargs)\n",
      "/Users/vaishnavihire/PycharmProjects/DS2000_grading/venv/lib/python3.7/site-packages/numpy/core/_methods.py:161: RuntimeWarning: invalid value encountered in double_scalars\n",
      "  ret = ret.dtype.type(ret / rcount)\n",
      "/Users/vaishnavihire/PycharmProjects/DS2000_grading/venv/lib/python3.7/site-packages/numpy/core/fromnumeric.py:3257: RuntimeWarning: Mean of empty slice.\n",
      "  out=out, **kwargs)\n",
      "/Users/vaishnavihire/PycharmProjects/DS2000_grading/venv/lib/python3.7/site-packages/numpy/core/_methods.py:161: RuntimeWarning: invalid value encountered in double_scalars\n",
      "  ret = ret.dtype.type(ret / rcount)\n",
      "/Users/vaishnavihire/PycharmProjects/DS2000_grading/venv/lib/python3.7/site-packages/numpy/core/fromnumeric.py:3257: RuntimeWarning: Mean of empty slice.\n",
      "  out=out, **kwargs)\n",
      "/Users/vaishnavihire/PycharmProjects/DS2000_grading/venv/lib/python3.7/site-packages/numpy/core/_methods.py:161: RuntimeWarning: invalid value encountered in double_scalars\n",
      "  ret = ret.dtype.type(ret / rcount)\n",
      "/Users/vaishnavihire/PycharmProjects/DS2000_grading/venv/lib/python3.7/site-packages/numpy/core/fromnumeric.py:3257: RuntimeWarning: Mean of empty slice.\n",
      "  out=out, **kwargs)\n",
      "/Users/vaishnavihire/PycharmProjects/DS2000_grading/venv/lib/python3.7/site-packages/numpy/core/_methods.py:161: RuntimeWarning: invalid value encountered in double_scalars\n",
      "  ret = ret.dtype.type(ret / rcount)\n"
     ]
    }
   ],
   "source": [
    "y_ld_predict = []\n",
    "\n",
    "for i in para_test_dict.keys():\n",
    "\n",
    "    if np.isnan(get_paragraph_vector(i)).any():\n",
    "        y_ld_predict.append(9)\n",
    "    else:\n",
    "        y_ld_predict.append(clf.predict([get_paragraph_vector(i)]))"
   ]
  },
  {
   "cell_type": "code",
   "execution_count": 49,
   "metadata": {
    "pycharm": {
     "is_executing": false
    }
   },
   "outputs": [
    {
     "data": {
      "text/plain": [
       "2342"
      ]
     },
     "execution_count": 49,
     "metadata": {},
     "output_type": "execute_result"
    }
   ],
   "source": [
    "y_lda_predict = []\n",
    "for i in y_ld_predict:\n",
    "    if isinstance(i, int):\n",
    "        y_lda_predict.append(i)    \n",
    "    else:\n",
    "        y_lda_predict.append(i[0])\n",
    "        \n",
    "\n",
    "len(y_lda_predict)"
   ]
  },
  {
   "cell_type": "markdown",
   "metadata": {},
   "source": [
    "## **********"
   ]
  },
  {
   "cell_type": "code",
   "execution_count": null,
   "metadata": {
    "pycharm": {
     "is_executing": false
    }
   },
   "outputs": [],
   "source": []
  },
  {
   "cell_type": "code",
   "execution_count": null,
   "metadata": {
    "pycharm": {
     "is_executing": false
    }
   },
   "outputs": [],
   "source": [
    "def get_policy_vectors(filepath):\n",
    "\n",
    "    with open(filepath,'r') as f:\n",
    "\n",
    "        data = nlp(remove_punctuation(f.read()))\n",
    "        res = {}\n",
    "        for sentence in data.sents:\n",
    "            sentence_sim_vector = calculate_sentence_sim(sentence)\n",
    "            # if max(sentence_sim_vector) >= 0.65:\n",
    "            #     print(sentence)\n",
    "            res[sentence] = sentence_sim_vector\n",
    "\n",
    "    return res\n",
    "\n"
   ]
  },
  {
   "cell_type": "code",
   "execution_count": null,
   "metadata": {
    "pycharm": {
     "is_executing": false
    }
   },
   "outputs": [],
   "source": [
    "def get_policy_vectors_sents(filepath):\n",
    "\n",
    "    with open(filepath,'r') as f:\n",
    "\n",
    "        data = nlp(remove_punctuation(f.read()))\n",
    "        res = {}\n",
    "        for sentence in data.sents:\n",
    "\n",
    "            sentence_sim_vector = get_sentence_vector(nlp((str(sentence.text))))\n",
    "\n",
    "            if np.isnan(sentence_sim_vector).any():\n",
    "                res[sentence] = np.array([0.0]*300)\n",
    "                continue\n",
    "            print(type(sentence_sim_vector))\n",
    "            # if math.isnan(sentence_sim_vector):\n",
    "            #     continue\n",
    "            # if max(sentence_sim_vector) >= 0.65:\n",
    "            #     print(sentence)\n",
    "            res[sentence] = sentence_sim_vector\n",
    "\n",
    "    return res"
   ]
  },
  {
   "cell_type": "code",
   "execution_count": null,
   "metadata": {
    "pycharm": {
     "is_executing": false
    }
   },
   "outputs": [],
   "source": [
    "# def get_all_policy_vectors(src_path):\n",
    "#     all_policies = {}\n",
    "#     for file in os.listdir(src_path):\n",
    "#         with open(src_path + '/'+ file, 'r') as f:\n",
    "#             all_policies[file] = get_all_policy_vectors(src_path + '/'+ file)\n",
    "#\n",
    "#     return all_policies\n",
    "\n",
    "\n",
    "\n",
    "similarity_array = get_policy_vectors('../data/notags_policies/33_nbcuniversal.txt')\n",
    "vector_array = get_policy_vectors_sents('../data/notags_policies/33_nbcuniversal.txt')\n",
    "\n",
    "class_array= {}\n",
    "for k,row in similarity_array.items():\n",
    "    if max(row) >= 0.65:\n",
    "        class_array[k] = row.index(max(row)) + 1\n",
    "    else:\n",
    "        class_array[k] = 0\n",
    "\n",
    "\n",
    "\n"
   ]
  },
  {
   "cell_type": "markdown",
   "metadata": {},
   "source": [
    "# Evaluation"
   ]
  },
  {
   "cell_type": "code",
   "execution_count": null,
   "metadata": {
    "pycharm": {
     "is_executing": false
    }
   },
   "outputs": [],
   "source": [
    "# CLASS_NUM = {'Data Retention' : 0,\n",
    "#  'Data Security' : 1,\n",
    "#  'Do Not Track' : 2,\n",
    "#  'First Party Collection/Use' : 3,\n",
    "#  'International and Specific Audiences' : 4,\n",
    "#  'Policy Change' : 5,\n",
    "#  'Third Party Sharing/Collection' : 6,\n",
    "#  'User Access, Edit and Deletion' : 7,\n",
    "#  'User Choice/Control' : 8,\n",
    "#  'Other' : 9}"
   ]
  },
  {
   "cell_type": "markdown",
   "metadata": {},
   "source": [
    "### Results: Knearest Neighbors"
   ]
  },
  {
   "cell_type": "code",
   "execution_count": 51,
   "metadata": {
    "pycharm": {
     "is_executing": false
    }
   },
   "outputs": [
    {
     "name": "stdout",
     "output_type": "stream",
     "text": [
      "precision: [0.2962963  0.68452381 0.66666667 0.75282309 0.36645963 0.71590909\n",
      " 0.75510204 0.4375     0.46428571 0.47469459]\n",
      "recall: [0.16       0.62162162 1.         0.68571429 0.86764706 0.82894737\n",
      " 0.6037296  0.35       0.34437086 0.64454976]\n",
      "fscore: [ 50 185   6 875  68  76 429  80 151 422]\n",
      "support: [ 50 185   6 875  68  76 429  80 151 422]\n"
     ]
    }
   ],
   "source": [
    "from sklearn.metrics import precision_recall_fscore_support as score\n",
    "\n",
    "predicted = y_knn_predict\n",
    "y_test =list(para_test_dict.values())\n",
    "\n",
    "\n",
    "\n",
    "precision_knn, recall_knn, fscore_knn, fscore_knn = score(y_test, predicted)\n",
    "\n",
    "print('precision: {}'.format(precision_knn))\n",
    "print('recall: {}'.format(recall_knn))\n",
    "print('fscore: {}'.format(fscore_knn))\n",
    "print('support: {}'.format(fscore_knn))"
   ]
  },
  {
   "cell_type": "markdown",
   "metadata": {},
   "source": [
    "### Results: MLP Classifier 2 Hidden layers"
   ]
  },
  {
   "cell_type": "code",
   "execution_count": 52,
   "metadata": {
    "pycharm": {
     "is_executing": false
    }
   },
   "outputs": [
    {
     "name": "stdout",
     "output_type": "stream",
     "text": [
      "precision: [0.29411765 0.78709677 0.6        0.7321238  0.66666667 0.64893617\n",
      " 0.71538462 0.55405405 0.57843137 0.60587002]\n",
      "recall: [0.2        0.65945946 1.         0.784      0.67647059 0.80263158\n",
      " 0.65034965 0.5125     0.39072848 0.68483412]\n",
      "fscore: [0.23809524 0.71764706 0.75       0.75717439 0.67153285 0.71764706\n",
      " 0.68131868 0.53246753 0.46640316 0.6429366 ]\n",
      "support: [ 50 185   6 875  68  76 429  80 151 422]\n"
     ]
    }
   ],
   "source": [
    "from sklearn.metrics import precision_recall_fscore_support as score\n",
    "\n",
    "predicted = y_mlp_predict\n",
    "y_test =list(para_test_dict.values())\n",
    "\n",
    "\n",
    "\n",
    "precision_mlp, recall_mlp, fscore_mlp, support_mlp = score(y_test, predicted)\n",
    "\n",
    "print('precision: {}'.format(precision_mlp))\n",
    "print('recall: {}'.format(recall_mlp))\n",
    "print('fscore: {}'.format(fscore_mlp))\n",
    "print('support: {}'.format(support_mlp))"
   ]
  },
  {
   "cell_type": "markdown",
   "metadata": {},
   "source": [
    "### Results: MLP Classifier 2 Hidden layers"
   ]
  },
  {
   "cell_type": "code",
   "execution_count": 53,
   "metadata": {
    "pycharm": {
     "is_executing": false
    }
   },
   "outputs": [
    {
     "name": "stdout",
     "output_type": "stream",
     "text": [
      "precision: [0.37037037 0.82014388 0.18181818 0.67572816 0.62686567 0.73076923\n",
      " 0.7652439  0.50649351 0.64423077 0.62962963]\n",
      "recall: [0.4        0.61621622 1.         0.79542857 0.61764706 0.75\n",
      " 0.58508159 0.4875     0.44370861 0.64454976]\n",
      "fscore: [0.38461538 0.7037037  0.30769231 0.73070866 0.62222222 0.74025974\n",
      " 0.66314399 0.49681529 0.5254902  0.63700234]\n",
      "support: [ 50 185   6 875  68  76 429  80 151 422]\n"
     ]
    }
   ],
   "source": [
    "from sklearn.metrics import precision_recall_fscore_support as score\n",
    "\n",
    "predicted = y_lda_predict\n",
    "y_test =list(para_test_dict.values())\n",
    "\n",
    "\n",
    "\n",
    "precision_lda, recall_lda, fscore_lda, support_lda = score(y_test, predicted)\n",
    "\n",
    "print('precision: {}'.format(precision_lda))\n",
    "print('recall: {}'.format(recall_lda))\n",
    "print('fscore: {}'.format(fscore_lda))\n",
    "print('support: {}'.format(support_lda))"
   ]
  },
  {
   "cell_type": "code",
   "execution_count": 54,
   "metadata": {
    "pycharm": {
     "is_executing": false
    }
   },
   "outputs": [],
   "source": [
    "import matplotlib.pyplot as plt"
   ]
  },
  {
   "cell_type": "code",
   "execution_count": 55,
   "metadata": {
    "pycharm": {
     "is_executing": false
    }
   },
   "outputs": [
    {
     "data": {
      "image/png": "[encoded data removed]",
      "text/plain": [
       "<Figure size 432x288 with 1 Axes>"
      ]
     },
     "metadata": {
      "needs_background": "light"
     },
     "output_type": "display_data"
    }
   ],
   "source": [
    "plt.title(\"Precision by different models\")\n",
    "plt.scatter(range(0,10), precision_knn, color='blue', label= 'Knn')\n",
    "plt.scatter(range(0,10), precision_mlp, color='orange', label = 'MLP' )\n",
    "plt.scatter(range(0,10), precision_lda, color='green', label=\"LDA\")\n",
    "\n",
    "plt.xticks([0,1, 2,3,4,5,6,7,8,9],('Data Retention','Data Security', 'Do Not Track', 'First Party Collection/Use', 'International and Specific Audiences',\n",
    "            'Policy Change','Third Party Sharing/Collection','User Access, Edit and Deletion','User Choice/Control','Other'), rotation=90)\n",
    "plt.legend()\n",
    "\n",
    "plt.show()"
   ]
  },
  {
   "cell_type": "code",
   "execution_count": 56,
   "metadata": {
    "pycharm": {
     "is_executing": false
    }
   },
   "outputs": [
    {
     "data": {
      "image/png": "[encoded data removed]",
      "text/plain": [
       "<Figure size 432x288 with 1 Axes>"
      ]
     },
     "metadata": {
      "needs_background": "light"
     },
     "output_type": "display_data"
    }
   ],
   "source": [
    "plt.title(\"Fscore by different models\")\n",
    "plt.scatter(range(0,10), fscore_knn, color='blue', label= 'Knn')\n",
    "plt.scatter(range(0,10), fscore_mlp, color='orange', label = 'MLP' )\n",
    "plt.scatter(range(0,10), fscore_lda, color='green', label=\"LDA\")\n",
    "\n",
    "plt.xticks([0,1, 2,3,4,5,6,7,8,9],('Data Retention','Data Security', 'Do Not Track', 'First Party Collection/Use', 'International and Specific Audiences',\n",
    "            'Policy Change','Third Party Sharing/Collection','User Access, Edit and Deletion','User Choice/Control','Other'), rotation=90)\n",
    "\n",
    "plt.legend()\n",
    "\n",
    "plt.show()"
   ]
  },
  {
   "cell_type": "code",
   "execution_count": 89,
   "metadata": {},
   "outputs": [
    {
     "data": {
      "text/plain": [
       "66"
      ]
     },
     "execution_count": 89,
     "metadata": {},
     "output_type": "execute_result"
    }
   ],
   "source": [
    "res_data = {}\n",
    "with open('../data/notags_policies/train_policies/627_dairyqueen.txt') as f:\n",
    "    dairy_queen_content = f.read()\n",
    "    \n",
    "    doc = nlp(dairy_queen_content)\n",
    "    count = 0\n",
    "    for sent in doc.sents:\n",
    "        count += 1\n",
    "        res_data[sent.text] = get_paragraph_vector(sent.text)\n",
    "        \n",
    "# dairy_queen_content\n",
    "count"
   ]
  },
  {
   "cell_type": "code",
   "execution_count": 84,
   "metadata": {},
   "outputs": [
    {
     "data": {
      "text/plain": [
       "66"
      ]
     },
     "execution_count": 84,
     "metadata": {},
     "output_type": "execute_result"
    }
   ],
   "source": [
    "predicted_res = {}\n",
    "for i in res_data:\n",
    "    if not np.isnan(res_data[i]).any():\n",
    "        predicted_res[i] = mlp_model.predict([res_data[i]])[0]\n",
    "    else:\n",
    "        predicted_res[i] = 9\n",
    "len(predicted_res)"
   ]
  },
  {
   "cell_type": "code",
   "execution_count": 73,
   "metadata": {},
   "outputs": [
    {
     "data": {
      "text/plain": [
       "defaultdict(list,\n",
       "            {5: [' PRIVACY STATEMENT    ',\n",
       "              'Effective June 4, 2014   ',\n",
       "              '||| LINKS    '],\n",
       "             9: ['\"',\n",
       "              'Attn: Privacy Compliance Officer International Dairy Queen,',\n",
       "              'California\\'s Business and Professions Code section 22575 requires us to disclose how we respond to \"do not track\" signals.',\n",
       "              'Cookies are pieces of data your web browser stores on your hard drive that we use to improve your user experience on our website.',\n",
       "              'Except with your consent or as required or permitted by law, we will use the information you submit for the purposes for which it is submitted or as otherwise described in this privacy statement.',\n",
       "              'If you download the official DQ mobile app, our privacy policy regarding use of the app is available within the app.',\n",
       "              'If you have any questions or concerns about this privacy statement, our privacy practices, or your personal information that is under our control, please contact us at:',\n",
       "              'If you join one of our loyalty clubs, you may receive newsletters, email or special offers, which you may unsubscribe from at any time using the unsubscribe link at the bottom of the email.  ',\n",
       "              'Information shared within the DQ/Orange Julius family will comply with this privacy statement.  ',\n",
       "              'Our privacy practices regarding children will be posted on those websites.  ',\n",
       "              'Our third party vendors may collect additional information by automated means when you visit our website, such as browser type or operating system.  ',\n",
       "              'Please read this privacy statement carefully, because by using our website, you accept and agree to the terms stated below.',\n",
       "              'There may be other DQ or Orange Julius branded apps run by our franchisees, and our privacy policies do not apply to those apps.  ',\n",
       "              'This privacy statement applies solely to information collected by this website.  ',\n",
       "              'This website may contain links to third party websites that we do not own, including links on our website to purchase DQ or Orange Julius gift cards or merchandise.',\n",
       "              'To learn more about how Zipscene LLC uses information you provide to us, please visit zipscene.com/privacy;  ',\n",
       "              'We are not responsible for the privacy practices of these other sites, and we encourage you to read the privacy statements of every website that collects personal information from you.',\n",
       "              'We may change the terms of this privacy statement at any time, and your continued use of this site is your agreement to any change in terms.  ',\n",
       "              'We may have separate websites directed toward children.',\n",
       "              'We may share personal information within the DQ/Orange Julius family of companies, which includes American Dairy Queen Corporation, Orange Julius of America, Dairy Queen Canada Inc., Orange Julius Canada Limited and their affiliates.',\n",
       "              'We will share your cake order information, which may include the contact information you provide, to a franchised location for purposes of tracking, responding to, and fulfilling your order.  ',\n",
       "              '|||  ',\n",
       "              '||| FRANCHISEE WEBSITES    ',\n",
       "              '|||If'],\n",
       "             3: ['Comments, questions or complaints submitted to us about a specific location will be forwarded to the franchised location, along with any contact information you provide with your comment.',\n",
       "              'For purposes of a merger, sale or other corporate reorganization (including professional advisors involved in completing such a transaction).',\n",
       "              'For purposes of improving your user experience across our different websites and platforms (such as our mobile app);  |||  We use Zipscene LLC to help us operate our mobile app and administer various activities.',\n",
       "              'If you have comments regarding a specific location, we recommend you contact that location directly so that they may personally and immediately assist you.',\n",
       "              'In connection with services provided to us, such as hosting, data management and storage, marketing or remarketing, website or marketing analytics, email services for our loyalty clubs, services to assist us with responding to you if you send us a comment, question, or complaint, for contest or sweepstakes administration and fulfillment, for employment application processing, and other similar services.',\n",
       "              'MN 55439 Email: privacy@idq.com',\n",
       "              'Personal information\" means any information about an identifiable individual, such as name, address, phone number, email, birth date, gender or zip code/postal code.',\n",
       "              'These activities provide us with important marketing information and lets us know how we are doing at attracting new visitors and maintaining relationships with our existing visitors.',\n",
       "              'We also collect information through the use of cookies.',\n",
       "              'We collect and use IP addresses to analyze trends, administer the site, track user movement, and gather broad demographic information for aggregate use.',\n",
       "              'We collect information through our website in a couple different ways.  ',\n",
       "              'You give us personal information when you join one of our loyalty clubs, enter one of our surveys, contests or sweepstakes, if you submit a question, comment or complaint, if you request or submit information about becoming a franchisee, if you submit an employment application, or for an online cake order.',\n",
       "              'you participate in a contest or sweepstakes, we may publish information about you such as your name, city of residence or prize winnings.  ',\n",
       "              '||| COLLECTION & USE OF INFORMATION.    ',\n",
       "              '||| MOBILE APP    ',\n",
       "              '||| SECURITY    ',\n",
       "              '|||Information Collected By Automated Means.'],\n",
       "             8: ['If you wish, you can set your browser to refuse cookies or delete any existing cookies from your computer, but this may negatively impact your experience on our website.',\n",
       "              'Inc. 7505',\n",
       "              '||| FEEDBACK    '],\n",
       "             6: ['In some circumstances, an IP address may be considered personal information.',\n",
       "              'Metro Blvd Minneapolis,',\n",
       "              'We and our third party service providers may use servers in the U.S. or another country.',\n",
       "              'We and our third party vendors may also use cookies to provide you with our advertising messages on other websites you visit; these third party vendors may collect information about your online activities over time and across different websites based on these cookies.',\n",
       "              'You agree that any of our successors may use and disclose the information for the same purposes as described in this statement; or  |||As required by law, or as needed to cooperate in or defend against any law enforcement investigation or legal proceeding.  ',\n",
       "              'Your personal information may be processed and stored in the U.S. or another country, and the government, courts, law enforcement or regulatory agencies of that country may by law be able to obtain your personal information;  |||  ',\n",
       "              '||| SHARING INFORMATION    ',\n",
       "              '|||We may share aggregated demographic information (data that cannot identify an individual person) with our third party vendors and advertisers.  ',\n",
       "              '|||We may share your personal information with third parties:     To provide services to you, such as purchasing and shipping goods, or credit card processing;  |||  '],\n",
       "             1: ['Many DQ and Orange Julius locations are independently owned and operated businesses and may have their own websites.',\n",
       "              'This privacy statement does not apply to sites run by independently owned and operated locations.  ',\n",
       "              'We do not guarantee the privacy practices of any specific franchised location.  ',\n",
       "              'We take security measures to protect personal information that we maintain against theft, unauthorized access, or alteration.  ',\n",
       "              '|||Cakes ordered through our dqcakes.com website are prepared at a DQ location, which are independently owned and operated franchises.',\n",
       "              '|||Most of our locations are independently owned and operated franchises, and we do not own or operate these locations.'],\n",
       "             2: ['We currently take no action to respond to \"do not track\" signals.  '],\n",
       "             4: [\"||| CHILDREN'S PRIVACY    \",\n",
       "              '||| California Do Not Track Disclosures    '],\n",
       "             7: ['|||Information You Submit.']})"
      ]
     },
     "execution_count": 73,
     "metadata": {},
     "output_type": "execute_result"
    }
   ],
   "source": [
    "from collections import defaultdict\n",
    "res = defaultdict(list)\n",
    "for key, val in sorted(predicted_res.items()):\n",
    "    res[val].append(key)\n",
    "res"
   ]
  },
  {
   "cell_type": "code",
   "execution_count": 74,
   "metadata": {},
   "outputs": [
    {
     "data": {
      "text/plain": [
       "[]"
      ]
     },
     "execution_count": 74,
     "metadata": {},
     "output_type": "execute_result"
    }
   ],
   "source": [
    "# Data Retention\n",
    "res[0]"
   ]
  },
  {
   "cell_type": "code",
   "execution_count": 75,
   "metadata": {},
   "outputs": [
    {
     "data": {
      "text/plain": [
       "['Many DQ and Orange Julius locations are independently owned and operated businesses and may have their own websites.',\n",
       " 'This privacy statement does not apply to sites run by independently owned and operated locations.  ',\n",
       " 'We do not guarantee the privacy practices of any specific franchised location.  ',\n",
       " 'We take security measures to protect personal information that we maintain against theft, unauthorized access, or alteration.  ',\n",
       " '|||Cakes ordered through our dqcakes.com website are prepared at a DQ location, which are independently owned and operated franchises.',\n",
       " '|||Most of our locations are independently owned and operated franchises, and we do not own or operate these locations.']"
      ]
     },
     "execution_count": 75,
     "metadata": {},
     "output_type": "execute_result"
    }
   ],
   "source": [
    "#  'Data Security' : 1,\n",
    "res[1]"
   ]
  },
  {
   "cell_type": "code",
   "execution_count": null,
   "metadata": {},
   "outputs": [],
   "source": []
  },
  {
   "cell_type": "code",
   "execution_count": 76,
   "metadata": {},
   "outputs": [
    {
     "data": {
      "text/plain": [
       "['We currently take no action to respond to \"do not track\" signals.  ']"
      ]
     },
     "execution_count": 76,
     "metadata": {},
     "output_type": "execute_result"
    }
   ],
   "source": [
    " #'Do Not Track' : 2,\n",
    "res[2]"
   ]
  },
  {
   "cell_type": "code",
   "execution_count": 93,
   "metadata": {},
   "outputs": [
    {
     "data": {
      "text/plain": [
       "17"
      ]
     },
     "execution_count": 93,
     "metadata": {},
     "output_type": "execute_result"
    }
   ],
   "source": [
    " #'First Party Collection/Use' : 3,\n",
    "res[3]\n",
    "len(res[3])"
   ]
  },
  {
   "cell_type": "code",
   "execution_count": 78,
   "metadata": {},
   "outputs": [
    {
     "data": {
      "text/plain": [
       "[\"||| CHILDREN'S PRIVACY    \", '||| California Do Not Track Disclosures    ']"
      ]
     },
     "execution_count": 78,
     "metadata": {},
     "output_type": "execute_result"
    }
   ],
   "source": [
    "#  'International and Specific Audiences' : 4,\n",
    "res[4]"
   ]
  },
  {
   "cell_type": "code",
   "execution_count": 79,
   "metadata": {},
   "outputs": [
    {
     "data": {
      "text/plain": [
       "[' PRIVACY STATEMENT    ', 'Effective June 4, 2014   ', '||| LINKS    ']"
      ]
     },
     "execution_count": 79,
     "metadata": {},
     "output_type": "execute_result"
    }
   ],
   "source": [
    "# 'Policy Change' : 5,\n",
    "res[5]"
   ]
  },
  {
   "cell_type": "code",
   "execution_count": 80,
   "metadata": {},
   "outputs": [
    {
     "data": {
      "text/plain": [
       "['In some circumstances, an IP address may be considered personal information.',\n",
       " 'Metro Blvd Minneapolis,',\n",
       " 'We and our third party service providers may use servers in the U.S. or another country.',\n",
       " 'We and our third party vendors may also use cookies to provide you with our advertising messages on other websites you visit; these third party vendors may collect information about your online activities over time and across different websites based on these cookies.',\n",
       " 'You agree that any of our successors may use and disclose the information for the same purposes as described in this statement; or  |||As required by law, or as needed to cooperate in or defend against any law enforcement investigation or legal proceeding.  ',\n",
       " 'Your personal information may be processed and stored in the U.S. or another country, and the government, courts, law enforcement or regulatory agencies of that country may by law be able to obtain your personal information;  |||  ',\n",
       " '||| SHARING INFORMATION    ',\n",
       " '|||We may share aggregated demographic information (data that cannot identify an individual person) with our third party vendors and advertisers.  ',\n",
       " '|||We may share your personal information with third parties:     To provide services to you, such as purchasing and shipping goods, or credit card processing;  |||  ']"
      ]
     },
     "execution_count": 80,
     "metadata": {},
     "output_type": "execute_result"
    }
   ],
   "source": [
    "#  'Third Party Sharing/Collection' : 6,\n",
    "res[6]"
   ]
  },
  {
   "cell_type": "code",
   "execution_count": 81,
   "metadata": {},
   "outputs": [
    {
     "data": {
      "text/plain": [
       "['|||Information You Submit.']"
      ]
     },
     "execution_count": 81,
     "metadata": {},
     "output_type": "execute_result"
    }
   ],
   "source": [
    "#  'User Access, Edit and Deletion' : 7,\n",
    "res[7]"
   ]
  },
  {
   "cell_type": "code",
   "execution_count": 82,
   "metadata": {},
   "outputs": [
    {
     "data": {
      "text/plain": [
       "['If you wish, you can set your browser to refuse cookies or delete any existing cookies from your computer, but this may negatively impact your experience on our website.',\n",
       " 'Inc. 7505',\n",
       " '||| FEEDBACK    ']"
      ]
     },
     "execution_count": 82,
     "metadata": {},
     "output_type": "execute_result"
    }
   ],
   "source": [
    "#  'User Choice/Control' : 8,\n",
    "res[8]"
   ]
  },
  {
   "cell_type": "code",
   "execution_count": 85,
   "metadata": {},
   "outputs": [
    {
     "data": {
      "text/plain": [
       "24"
      ]
     },
     "execution_count": 85,
     "metadata": {},
     "output_type": "execute_result"
    }
   ],
   "source": [
    "#  'Other'\n",
    "len(res[9])"
   ]
  },
  {
   "cell_type": "code",
   "execution_count": 97,
   "metadata": {},
   "outputs": [
    {
     "data": {
      "image/png": "[encoded data removed]",
      "text/plain": [
       "<Figure size 432x288 with 1 Axes>"
      ]
     },
     "metadata": {
      "needs_background": "light"
     },
     "output_type": "display_data"
    }
   ],
   "source": [
    "plt.title(\"Dairy Queen Privacy Policy\")\n",
    "y = [len(res[i]) for i in range(10)]\n",
    "\n",
    "plt.bar(range(0,10), y)\n",
    "# plt.scatter(range(0,10), fscore_mlp, color='orange', label = 'MLP' )\n",
    "# plt.scatter(range(0,10), fscore_lda, color='green', label=\"LDA\")\n",
    "\n",
    "plt.xticks([0,1, 2,3,4,5,6,7,8,9],('Data Retention','Data Security', 'Do Not Track', 'First Party Collection/Use', 'International and Specific Audiences',\n",
    "            'Policy Change','Third Party Sharing/Collection','User Access, Edit and Deletion','User Choice/Control','Other'), rotation=90)\n",
    "\n",
    "\n",
    "plt.show()\n"
   ]
  },
  {
   "cell_type": "markdown",
   "metadata": {
    "pycharm": {
     "is_executing": true
    }
   },
   "source": [
    "## Analysis of Summary Data"
   ]
  },
  {
   "cell_type": "code",
   "execution_count": 3,
   "metadata": {
    "pycharm": {
     "is_executing": false
    }
   },
   "outputs": [
    {
     "data": {
      "text/plain": [
       "dict_keys(['First Party Collection/Use', 'Third Party Sharing/Collection', 'User Choice/Control', 'Data Security', 'User Access, Edit and Deletion', 'International and Specific Audiences', 'Data Retention', 'Policy Change', 'Do Not Track', 'Other'])"
      ]
     },
     "execution_count": 3,
     "metadata": {},
     "output_type": "execute_result"
    }
   ],
   "source": [
    "with open('../data/notags_policies/sample_train/dict0.49543508709194095.txt') as f:\n",
    "    content = json.loads(f.read())\n",
    "content.keys()"
   ]
  },
  {
   "cell_type": "code",
   "execution_count": 15,
   "metadata": {
    "pycharm": {
     "is_executing": false
    }
   },
   "outputs": [
    {
     "name": "stderr",
     "output_type": "stream",
     "text": [
      "/Users/vaishnavihire/PycharmProjects/DS2000_grading/venv/lib/python3.7/site-packages/numpy/core/fromnumeric.py:3257: RuntimeWarning: Mean of empty slice.\n",
      "  out=out, **kwargs)\n",
      "/Users/vaishnavihire/PycharmProjects/DS2000_grading/venv/lib/python3.7/site-packages/numpy/core/_methods.py:161: RuntimeWarning: invalid value encountered in double_scalars\n",
      "  ret = ret.dtype.type(ret / rcount)\n"
     ]
    },
    {
     "name": "stdout",
     "output_type": "stream",
     "text": [
      "Error\n",
      "Error\n",
      "Error\n",
      "Error\n",
      "Error\n"
     ]
    }
   ],
   "source": [
    "x_analysis_data = {}\n",
    "y_analysis_data = {}\n",
    "\n",
    "\n",
    "for key in content:\n",
    "    x_a_data = []\n",
    "    y_a_data = []\n",
    "    for i in content[key]:\n",
    "            \n",
    "        if not np.isnan(get_paragraph_vector(i)).any():\n",
    "            x_a_data.append(get_paragraph_vector(i))\n",
    "            y_a_data.append(content[key][i])\n",
    "            \n",
    "    x_analysis_data[key] = x_a_data\n",
    "    y_analysis_data[key] = y_a_data\n",
    "\n"
   ]
  },
  {
   "cell_type": "code",
   "execution_count": 16,
   "metadata": {
    "pycharm": {
     "is_executing": false
    }
   },
   "outputs": [
    {
     "name": "stderr",
     "output_type": "stream",
     "text": [
      "/Users/vaishnavihire/PycharmProjects/DS2000_grading/venv/lib/python3.7/site-packages/sklearn/neural_network/multilayer_perceptron.py:566: ConvergenceWarning: Stochastic Optimizer: Maximum iterations (200) reached and the optimization hasn't converged yet.\n",
      "  % self.max_iter, ConvergenceWarning)\n",
      "/Users/vaishnavihire/PycharmProjects/DS2000_grading/venv/lib/python3.7/site-packages/sklearn/neural_network/multilayer_perceptron.py:566: ConvergenceWarning: Stochastic Optimizer: Maximum iterations (200) reached and the optimization hasn't converged yet.\n",
      "  % self.max_iter, ConvergenceWarning)\n",
      "/Users/vaishnavihire/PycharmProjects/DS2000_grading/venv/lib/python3.7/site-packages/sklearn/neural_network/multilayer_perceptron.py:566: ConvergenceWarning: Stochastic Optimizer: Maximum iterations (200) reached and the optimization hasn't converged yet.\n",
      "  % self.max_iter, ConvergenceWarning)\n",
      "/Users/vaishnavihire/PycharmProjects/DS2000_grading/venv/lib/python3.7/site-packages/sklearn/neural_network/multilayer_perceptron.py:566: ConvergenceWarning: Stochastic Optimizer: Maximum iterations (200) reached and the optimization hasn't converged yet.\n",
      "  % self.max_iter, ConvergenceWarning)\n",
      "/Users/vaishnavihire/PycharmProjects/DS2000_grading/venv/lib/python3.7/site-packages/sklearn/neural_network/multilayer_perceptron.py:566: ConvergenceWarning: Stochastic Optimizer: Maximum iterations (200) reached and the optimization hasn't converged yet.\n",
      "  % self.max_iter, ConvergenceWarning)\n",
      "/Users/vaishnavihire/PycharmProjects/DS2000_grading/venv/lib/python3.7/site-packages/sklearn/neural_network/multilayer_perceptron.py:566: ConvergenceWarning: Stochastic Optimizer: Maximum iterations (300) reached and the optimization hasn't converged yet.\n",
      "  % self.max_iter, ConvergenceWarning)\n",
      "/Users/vaishnavihire/PycharmProjects/DS2000_grading/venv/lib/python3.7/site-packages/sklearn/neural_network/multilayer_perceptron.py:566: ConvergenceWarning: Stochastic Optimizer: Maximum iterations (400) reached and the optimization hasn't converged yet.\n",
      "  % self.max_iter, ConvergenceWarning)\n",
      "/Users/vaishnavihire/PycharmProjects/DS2000_grading/venv/lib/python3.7/site-packages/sklearn/neural_network/multilayer_perceptron.py:566: ConvergenceWarning: Stochastic Optimizer: Maximum iterations (200) reached and the optimization hasn't converged yet.\n",
      "  % self.max_iter, ConvergenceWarning)\n",
      "/Users/vaishnavihire/PycharmProjects/DS2000_grading/venv/lib/python3.7/site-packages/sklearn/neural_network/multilayer_perceptron.py:566: ConvergenceWarning: Stochastic Optimizer: Maximum iterations (200) reached and the optimization hasn't converged yet.\n",
      "  % self.max_iter, ConvergenceWarning)\n",
      "/Users/vaishnavihire/PycharmProjects/DS2000_grading/venv/lib/python3.7/site-packages/sklearn/neural_network/multilayer_perceptron.py:566: ConvergenceWarning: Stochastic Optimizer: Maximum iterations (300) reached and the optimization hasn't converged yet.\n",
      "  % self.max_iter, ConvergenceWarning)\n",
      "/Users/vaishnavihire/PycharmProjects/DS2000_grading/venv/lib/python3.7/site-packages/sklearn/neural_network/multilayer_perceptron.py:566: ConvergenceWarning: Stochastic Optimizer: Maximum iterations (300) reached and the optimization hasn't converged yet.\n",
      "  % self.max_iter, ConvergenceWarning)\n",
      "/Users/vaishnavihire/PycharmProjects/DS2000_grading/venv/lib/python3.7/site-packages/sklearn/neural_network/multilayer_perceptron.py:566: ConvergenceWarning: Stochastic Optimizer: Maximum iterations (400) reached and the optimization hasn't converged yet.\n",
      "  % self.max_iter, ConvergenceWarning)\n",
      "/Users/vaishnavihire/PycharmProjects/DS2000_grading/venv/lib/python3.7/site-packages/sklearn/neural_network/multilayer_perceptron.py:566: ConvergenceWarning: Stochastic Optimizer: Maximum iterations (200) reached and the optimization hasn't converged yet.\n",
      "  % self.max_iter, ConvergenceWarning)\n",
      "/Users/vaishnavihire/PycharmProjects/DS2000_grading/venv/lib/python3.7/site-packages/sklearn/neural_network/multilayer_perceptron.py:566: ConvergenceWarning: Stochastic Optimizer: Maximum iterations (200) reached and the optimization hasn't converged yet.\n",
      "  % self.max_iter, ConvergenceWarning)\n",
      "/Users/vaishnavihire/PycharmProjects/DS2000_grading/venv/lib/python3.7/site-packages/sklearn/neural_network/multilayer_perceptron.py:566: ConvergenceWarning: Stochastic Optimizer: Maximum iterations (200) reached and the optimization hasn't converged yet.\n",
      "  % self.max_iter, ConvergenceWarning)\n",
      "/Users/vaishnavihire/PycharmProjects/DS2000_grading/venv/lib/python3.7/site-packages/sklearn/neural_network/multilayer_perceptron.py:566: ConvergenceWarning: Stochastic Optimizer: Maximum iterations (300) reached and the optimization hasn't converged yet.\n",
      "  % self.max_iter, ConvergenceWarning)\n",
      "/Users/vaishnavihire/PycharmProjects/DS2000_grading/venv/lib/python3.7/site-packages/sklearn/neural_network/multilayer_perceptron.py:566: ConvergenceWarning: Stochastic Optimizer: Maximum iterations (300) reached and the optimization hasn't converged yet.\n",
      "  % self.max_iter, ConvergenceWarning)\n",
      "/Users/vaishnavihire/PycharmProjects/DS2000_grading/venv/lib/python3.7/site-packages/sklearn/neural_network/multilayer_perceptron.py:566: ConvergenceWarning: Stochastic Optimizer: Maximum iterations (300) reached and the optimization hasn't converged yet.\n",
      "  % self.max_iter, ConvergenceWarning)\n",
      "/Users/vaishnavihire/PycharmProjects/DS2000_grading/venv/lib/python3.7/site-packages/sklearn/neural_network/multilayer_perceptron.py:566: ConvergenceWarning: Stochastic Optimizer: Maximum iterations (400) reached and the optimization hasn't converged yet.\n",
      "  % self.max_iter, ConvergenceWarning)\n",
      "/Users/vaishnavihire/PycharmProjects/DS2000_grading/venv/lib/python3.7/site-packages/sklearn/neural_network/multilayer_perceptron.py:566: ConvergenceWarning: Stochastic Optimizer: Maximum iterations (200) reached and the optimization hasn't converged yet.\n",
      "  % self.max_iter, ConvergenceWarning)\n",
      "/Users/vaishnavihire/PycharmProjects/DS2000_grading/venv/lib/python3.7/site-packages/sklearn/neural_network/multilayer_perceptron.py:566: ConvergenceWarning: Stochastic Optimizer: Maximum iterations (200) reached and the optimization hasn't converged yet.\n",
      "  % self.max_iter, ConvergenceWarning)\n",
      "/Users/vaishnavihire/PycharmProjects/DS2000_grading/venv/lib/python3.7/site-packages/sklearn/neural_network/multilayer_perceptron.py:566: ConvergenceWarning: Stochastic Optimizer: Maximum iterations (300) reached and the optimization hasn't converged yet.\n",
      "  % self.max_iter, ConvergenceWarning)\n",
      "/Users/vaishnavihire/PycharmProjects/DS2000_grading/venv/lib/python3.7/site-packages/sklearn/neural_network/multilayer_perceptron.py:566: ConvergenceWarning: Stochastic Optimizer: Maximum iterations (300) reached and the optimization hasn't converged yet.\n",
      "  % self.max_iter, ConvergenceWarning)\n",
      "/Users/vaishnavihire/PycharmProjects/DS2000_grading/venv/lib/python3.7/site-packages/sklearn/neural_network/multilayer_perceptron.py:566: ConvergenceWarning: Stochastic Optimizer: Maximum iterations (300) reached and the optimization hasn't converged yet.\n",
      "  % self.max_iter, ConvergenceWarning)\n",
      "/Users/vaishnavihire/PycharmProjects/DS2000_grading/venv/lib/python3.7/site-packages/sklearn/neural_network/multilayer_perceptron.py:566: ConvergenceWarning: Stochastic Optimizer: Maximum iterations (400) reached and the optimization hasn't converged yet.\n",
      "  % self.max_iter, ConvergenceWarning)\n"
     ]
    },
    {
     "name": "stdout",
     "output_type": "stream",
     "text": [
      "Grid search result:\n",
      "[130, 300, 0.1]\n",
      "0.7022058823529411\n"
     ]
    },
    {
     "name": "stderr",
     "output_type": "stream",
     "text": [
      "/Users/vaishnavihire/PycharmProjects/DS2000_grading/venv/lib/python3.7/site-packages/sklearn/neural_network/multilayer_perceptron.py:566: ConvergenceWarning: Stochastic Optimizer: Maximum iterations (200) reached and the optimization hasn't converged yet.\n",
      "  % self.max_iter, ConvergenceWarning)\n",
      "/Users/vaishnavihire/PycharmProjects/DS2000_grading/venv/lib/python3.7/site-packages/sklearn/neural_network/multilayer_perceptron.py:566: ConvergenceWarning: Stochastic Optimizer: Maximum iterations (200) reached and the optimization hasn't converged yet.\n",
      "  % self.max_iter, ConvergenceWarning)\n",
      "/Users/vaishnavihire/PycharmProjects/DS2000_grading/venv/lib/python3.7/site-packages/sklearn/neural_network/multilayer_perceptron.py:566: ConvergenceWarning: Stochastic Optimizer: Maximum iterations (200) reached and the optimization hasn't converged yet.\n",
      "  % self.max_iter, ConvergenceWarning)\n",
      "/Users/vaishnavihire/PycharmProjects/DS2000_grading/venv/lib/python3.7/site-packages/sklearn/neural_network/multilayer_perceptron.py:566: ConvergenceWarning: Stochastic Optimizer: Maximum iterations (200) reached and the optimization hasn't converged yet.\n",
      "  % self.max_iter, ConvergenceWarning)\n",
      "/Users/vaishnavihire/PycharmProjects/DS2000_grading/venv/lib/python3.7/site-packages/sklearn/neural_network/multilayer_perceptron.py:566: ConvergenceWarning: Stochastic Optimizer: Maximum iterations (300) reached and the optimization hasn't converged yet.\n",
      "  % self.max_iter, ConvergenceWarning)\n",
      "/Users/vaishnavihire/PycharmProjects/DS2000_grading/venv/lib/python3.7/site-packages/sklearn/neural_network/multilayer_perceptron.py:566: ConvergenceWarning: Stochastic Optimizer: Maximum iterations (400) reached and the optimization hasn't converged yet.\n",
      "  % self.max_iter, ConvergenceWarning)\n",
      "/Users/vaishnavihire/PycharmProjects/DS2000_grading/venv/lib/python3.7/site-packages/sklearn/neural_network/multilayer_perceptron.py:566: ConvergenceWarning: Stochastic Optimizer: Maximum iterations (200) reached and the optimization hasn't converged yet.\n",
      "  % self.max_iter, ConvergenceWarning)\n",
      "/Users/vaishnavihire/PycharmProjects/DS2000_grading/venv/lib/python3.7/site-packages/sklearn/neural_network/multilayer_perceptron.py:566: ConvergenceWarning: Stochastic Optimizer: Maximum iterations (200) reached and the optimization hasn't converged yet.\n",
      "  % self.max_iter, ConvergenceWarning)\n",
      "/Users/vaishnavihire/PycharmProjects/DS2000_grading/venv/lib/python3.7/site-packages/sklearn/neural_network/multilayer_perceptron.py:566: ConvergenceWarning: Stochastic Optimizer: Maximum iterations (300) reached and the optimization hasn't converged yet.\n",
      "  % self.max_iter, ConvergenceWarning)\n",
      "/Users/vaishnavihire/PycharmProjects/DS2000_grading/venv/lib/python3.7/site-packages/sklearn/neural_network/multilayer_perceptron.py:566: ConvergenceWarning: Stochastic Optimizer: Maximum iterations (300) reached and the optimization hasn't converged yet.\n",
      "  % self.max_iter, ConvergenceWarning)\n",
      "/Users/vaishnavihire/PycharmProjects/DS2000_grading/venv/lib/python3.7/site-packages/sklearn/neural_network/multilayer_perceptron.py:566: ConvergenceWarning: Stochastic Optimizer: Maximum iterations (200) reached and the optimization hasn't converged yet.\n",
      "  % self.max_iter, ConvergenceWarning)\n",
      "/Users/vaishnavihire/PycharmProjects/DS2000_grading/venv/lib/python3.7/site-packages/sklearn/neural_network/multilayer_perceptron.py:566: ConvergenceWarning: Stochastic Optimizer: Maximum iterations (200) reached and the optimization hasn't converged yet.\n",
      "  % self.max_iter, ConvergenceWarning)\n",
      "/Users/vaishnavihire/PycharmProjects/DS2000_grading/venv/lib/python3.7/site-packages/sklearn/neural_network/multilayer_perceptron.py:566: ConvergenceWarning: Stochastic Optimizer: Maximum iterations (300) reached and the optimization hasn't converged yet.\n",
      "  % self.max_iter, ConvergenceWarning)\n",
      "/Users/vaishnavihire/PycharmProjects/DS2000_grading/venv/lib/python3.7/site-packages/sklearn/neural_network/multilayer_perceptron.py:566: ConvergenceWarning: Stochastic Optimizer: Maximum iterations (400) reached and the optimization hasn't converged yet.\n",
      "  % self.max_iter, ConvergenceWarning)\n",
      "/Users/vaishnavihire/PycharmProjects/DS2000_grading/venv/lib/python3.7/site-packages/sklearn/neural_network/multilayer_perceptron.py:566: ConvergenceWarning: Stochastic Optimizer: Maximum iterations (200) reached and the optimization hasn't converged yet.\n",
      "  % self.max_iter, ConvergenceWarning)\n",
      "/Users/vaishnavihire/PycharmProjects/DS2000_grading/venv/lib/python3.7/site-packages/sklearn/neural_network/multilayer_perceptron.py:566: ConvergenceWarning: Stochastic Optimizer: Maximum iterations (200) reached and the optimization hasn't converged yet.\n",
      "  % self.max_iter, ConvergenceWarning)\n",
      "/Users/vaishnavihire/PycharmProjects/DS2000_grading/venv/lib/python3.7/site-packages/sklearn/neural_network/multilayer_perceptron.py:566: ConvergenceWarning: Stochastic Optimizer: Maximum iterations (300) reached and the optimization hasn't converged yet.\n",
      "  % self.max_iter, ConvergenceWarning)\n",
      "/Users/vaishnavihire/PycharmProjects/DS2000_grading/venv/lib/python3.7/site-packages/sklearn/neural_network/multilayer_perceptron.py:566: ConvergenceWarning: Stochastic Optimizer: Maximum iterations (300) reached and the optimization hasn't converged yet.\n",
      "  % self.max_iter, ConvergenceWarning)\n"
     ]
    },
    {
     "name": "stdout",
     "output_type": "stream",
     "text": [
      "Grid search result:\n",
      "[100, 200, 0.001]\n",
      "0.9099264705882353\n"
     ]
    },
    {
     "name": "stderr",
     "output_type": "stream",
     "text": [
      "/Users/vaishnavihire/PycharmProjects/DS2000_grading/venv/lib/python3.7/site-packages/sklearn/neural_network/multilayer_perceptron.py:566: ConvergenceWarning: Stochastic Optimizer: Maximum iterations (200) reached and the optimization hasn't converged yet.\n",
      "  % self.max_iter, ConvergenceWarning)\n",
      "/Users/vaishnavihire/PycharmProjects/DS2000_grading/venv/lib/python3.7/site-packages/sklearn/neural_network/multilayer_perceptron.py:566: ConvergenceWarning: Stochastic Optimizer: Maximum iterations (200) reached and the optimization hasn't converged yet.\n",
      "  % self.max_iter, ConvergenceWarning)\n",
      "/Users/vaishnavihire/PycharmProjects/DS2000_grading/venv/lib/python3.7/site-packages/sklearn/neural_network/multilayer_perceptron.py:566: ConvergenceWarning: Stochastic Optimizer: Maximum iterations (300) reached and the optimization hasn't converged yet.\n",
      "  % self.max_iter, ConvergenceWarning)\n",
      "/Users/vaishnavihire/PycharmProjects/DS2000_grading/venv/lib/python3.7/site-packages/sklearn/neural_network/multilayer_perceptron.py:566: ConvergenceWarning: Stochastic Optimizer: Maximum iterations (300) reached and the optimization hasn't converged yet.\n",
      "  % self.max_iter, ConvergenceWarning)\n",
      "/Users/vaishnavihire/PycharmProjects/DS2000_grading/venv/lib/python3.7/site-packages/sklearn/neural_network/multilayer_perceptron.py:566: ConvergenceWarning: Stochastic Optimizer: Maximum iterations (200) reached and the optimization hasn't converged yet.\n",
      "  % self.max_iter, ConvergenceWarning)\n",
      "/Users/vaishnavihire/PycharmProjects/DS2000_grading/venv/lib/python3.7/site-packages/sklearn/neural_network/multilayer_perceptron.py:566: ConvergenceWarning: Stochastic Optimizer: Maximum iterations (200) reached and the optimization hasn't converged yet.\n",
      "  % self.max_iter, ConvergenceWarning)\n",
      "/Users/vaishnavihire/PycharmProjects/DS2000_grading/venv/lib/python3.7/site-packages/sklearn/neural_network/multilayer_perceptron.py:566: ConvergenceWarning: Stochastic Optimizer: Maximum iterations (200) reached and the optimization hasn't converged yet.\n",
      "  % self.max_iter, ConvergenceWarning)\n",
      "/Users/vaishnavihire/PycharmProjects/DS2000_grading/venv/lib/python3.7/site-packages/sklearn/neural_network/multilayer_perceptron.py:566: ConvergenceWarning: Stochastic Optimizer: Maximum iterations (200) reached and the optimization hasn't converged yet.\n",
      "  % self.max_iter, ConvergenceWarning)\n",
      "/Users/vaishnavihire/PycharmProjects/DS2000_grading/venv/lib/python3.7/site-packages/sklearn/neural_network/multilayer_perceptron.py:566: ConvergenceWarning: Stochastic Optimizer: Maximum iterations (200) reached and the optimization hasn't converged yet.\n",
      "  % self.max_iter, ConvergenceWarning)\n",
      "/Users/vaishnavihire/PycharmProjects/DS2000_grading/venv/lib/python3.7/site-packages/sklearn/neural_network/multilayer_perceptron.py:566: ConvergenceWarning: Stochastic Optimizer: Maximum iterations (400) reached and the optimization hasn't converged yet.\n",
      "  % self.max_iter, ConvergenceWarning)\n",
      "/Users/vaishnavihire/PycharmProjects/DS2000_grading/venv/lib/python3.7/site-packages/sklearn/neural_network/multilayer_perceptron.py:566: ConvergenceWarning: Stochastic Optimizer: Maximum iterations (200) reached and the optimization hasn't converged yet.\n",
      "  % self.max_iter, ConvergenceWarning)\n",
      "/Users/vaishnavihire/PycharmProjects/DS2000_grading/venv/lib/python3.7/site-packages/sklearn/neural_network/multilayer_perceptron.py:566: ConvergenceWarning: Stochastic Optimizer: Maximum iterations (200) reached and the optimization hasn't converged yet.\n",
      "  % self.max_iter, ConvergenceWarning)\n",
      "/Users/vaishnavihire/PycharmProjects/DS2000_grading/venv/lib/python3.7/site-packages/sklearn/neural_network/multilayer_perceptron.py:566: ConvergenceWarning: Stochastic Optimizer: Maximum iterations (200) reached and the optimization hasn't converged yet.\n",
      "  % self.max_iter, ConvergenceWarning)\n",
      "/Users/vaishnavihire/PycharmProjects/DS2000_grading/venv/lib/python3.7/site-packages/sklearn/neural_network/multilayer_perceptron.py:566: ConvergenceWarning: Stochastic Optimizer: Maximum iterations (200) reached and the optimization hasn't converged yet.\n",
      "  % self.max_iter, ConvergenceWarning)\n",
      "/Users/vaishnavihire/PycharmProjects/DS2000_grading/venv/lib/python3.7/site-packages/sklearn/neural_network/multilayer_perceptron.py:566: ConvergenceWarning: Stochastic Optimizer: Maximum iterations (300) reached and the optimization hasn't converged yet.\n",
      "  % self.max_iter, ConvergenceWarning)\n",
      "/Users/vaishnavihire/PycharmProjects/DS2000_grading/venv/lib/python3.7/site-packages/sklearn/neural_network/multilayer_perceptron.py:566: ConvergenceWarning: Stochastic Optimizer: Maximum iterations (400) reached and the optimization hasn't converged yet.\n",
      "  % self.max_iter, ConvergenceWarning)\n",
      "/Users/vaishnavihire/PycharmProjects/DS2000_grading/venv/lib/python3.7/site-packages/sklearn/neural_network/multilayer_perceptron.py:566: ConvergenceWarning: Stochastic Optimizer: Maximum iterations (200) reached and the optimization hasn't converged yet.\n",
      "  % self.max_iter, ConvergenceWarning)\n",
      "/Users/vaishnavihire/PycharmProjects/DS2000_grading/venv/lib/python3.7/site-packages/sklearn/neural_network/multilayer_perceptron.py:566: ConvergenceWarning: Stochastic Optimizer: Maximum iterations (200) reached and the optimization hasn't converged yet.\n",
      "  % self.max_iter, ConvergenceWarning)\n",
      "/Users/vaishnavihire/PycharmProjects/DS2000_grading/venv/lib/python3.7/site-packages/sklearn/neural_network/multilayer_perceptron.py:566: ConvergenceWarning: Stochastic Optimizer: Maximum iterations (200) reached and the optimization hasn't converged yet.\n",
      "  % self.max_iter, ConvergenceWarning)\n"
     ]
    },
    {
     "name": "stdout",
     "output_type": "stream",
     "text": [
      "Grid search result:\n",
      "[100, 300, 0.01]\n",
      "0.7867647058823529\n"
     ]
    },
    {
     "name": "stderr",
     "output_type": "stream",
     "text": [
      "/Users/vaishnavihire/PycharmProjects/DS2000_grading/venv/lib/python3.7/site-packages/sklearn/neural_network/multilayer_perceptron.py:566: ConvergenceWarning: Stochastic Optimizer: Maximum iterations (200) reached and the optimization hasn't converged yet.\n",
      "  % self.max_iter, ConvergenceWarning)\n",
      "/Users/vaishnavihire/PycharmProjects/DS2000_grading/venv/lib/python3.7/site-packages/sklearn/neural_network/multilayer_perceptron.py:566: ConvergenceWarning: Stochastic Optimizer: Maximum iterations (200) reached and the optimization hasn't converged yet.\n",
      "  % self.max_iter, ConvergenceWarning)\n",
      "/Users/vaishnavihire/PycharmProjects/DS2000_grading/venv/lib/python3.7/site-packages/sklearn/neural_network/multilayer_perceptron.py:566: ConvergenceWarning: Stochastic Optimizer: Maximum iterations (300) reached and the optimization hasn't converged yet.\n",
      "  % self.max_iter, ConvergenceWarning)\n",
      "/Users/vaishnavihire/PycharmProjects/DS2000_grading/venv/lib/python3.7/site-packages/sklearn/neural_network/multilayer_perceptron.py:566: ConvergenceWarning: Stochastic Optimizer: Maximum iterations (400) reached and the optimization hasn't converged yet.\n",
      "  % self.max_iter, ConvergenceWarning)\n",
      "/Users/vaishnavihire/PycharmProjects/DS2000_grading/venv/lib/python3.7/site-packages/sklearn/neural_network/multilayer_perceptron.py:566: ConvergenceWarning: Stochastic Optimizer: Maximum iterations (400) reached and the optimization hasn't converged yet.\n",
      "  % self.max_iter, ConvergenceWarning)\n",
      "/Users/vaishnavihire/PycharmProjects/DS2000_grading/venv/lib/python3.7/site-packages/sklearn/neural_network/multilayer_perceptron.py:566: ConvergenceWarning: Stochastic Optimizer: Maximum iterations (200) reached and the optimization hasn't converged yet.\n",
      "  % self.max_iter, ConvergenceWarning)\n",
      "/Users/vaishnavihire/PycharmProjects/DS2000_grading/venv/lib/python3.7/site-packages/sklearn/neural_network/multilayer_perceptron.py:566: ConvergenceWarning: Stochastic Optimizer: Maximum iterations (200) reached and the optimization hasn't converged yet.\n",
      "  % self.max_iter, ConvergenceWarning)\n",
      "/Users/vaishnavihire/PycharmProjects/DS2000_grading/venv/lib/python3.7/site-packages/sklearn/neural_network/multilayer_perceptron.py:566: ConvergenceWarning: Stochastic Optimizer: Maximum iterations (200) reached and the optimization hasn't converged yet.\n",
      "  % self.max_iter, ConvergenceWarning)\n",
      "/Users/vaishnavihire/PycharmProjects/DS2000_grading/venv/lib/python3.7/site-packages/sklearn/neural_network/multilayer_perceptron.py:566: ConvergenceWarning: Stochastic Optimizer: Maximum iterations (300) reached and the optimization hasn't converged yet.\n",
      "  % self.max_iter, ConvergenceWarning)\n",
      "/Users/vaishnavihire/PycharmProjects/DS2000_grading/venv/lib/python3.7/site-packages/sklearn/neural_network/multilayer_perceptron.py:566: ConvergenceWarning: Stochastic Optimizer: Maximum iterations (400) reached and the optimization hasn't converged yet.\n",
      "  % self.max_iter, ConvergenceWarning)\n",
      "/Users/vaishnavihire/PycharmProjects/DS2000_grading/venv/lib/python3.7/site-packages/sklearn/neural_network/multilayer_perceptron.py:566: ConvergenceWarning: Stochastic Optimizer: Maximum iterations (200) reached and the optimization hasn't converged yet.\n",
      "  % self.max_iter, ConvergenceWarning)\n",
      "/Users/vaishnavihire/PycharmProjects/DS2000_grading/venv/lib/python3.7/site-packages/sklearn/neural_network/multilayer_perceptron.py:566: ConvergenceWarning: Stochastic Optimizer: Maximum iterations (200) reached and the optimization hasn't converged yet.\n",
      "  % self.max_iter, ConvergenceWarning)\n",
      "/Users/vaishnavihire/PycharmProjects/DS2000_grading/venv/lib/python3.7/site-packages/sklearn/neural_network/multilayer_perceptron.py:566: ConvergenceWarning: Stochastic Optimizer: Maximum iterations (200) reached and the optimization hasn't converged yet.\n",
      "  % self.max_iter, ConvergenceWarning)\n",
      "/Users/vaishnavihire/PycharmProjects/DS2000_grading/venv/lib/python3.7/site-packages/sklearn/neural_network/multilayer_perceptron.py:566: ConvergenceWarning: Stochastic Optimizer: Maximum iterations (300) reached and the optimization hasn't converged yet.\n",
      "  % self.max_iter, ConvergenceWarning)\n",
      "/Users/vaishnavihire/PycharmProjects/DS2000_grading/venv/lib/python3.7/site-packages/sklearn/neural_network/multilayer_perceptron.py:566: ConvergenceWarning: Stochastic Optimizer: Maximum iterations (300) reached and the optimization hasn't converged yet.\n",
      "  % self.max_iter, ConvergenceWarning)\n",
      "/Users/vaishnavihire/PycharmProjects/DS2000_grading/venv/lib/python3.7/site-packages/sklearn/neural_network/multilayer_perceptron.py:566: ConvergenceWarning: Stochastic Optimizer: Maximum iterations (300) reached and the optimization hasn't converged yet.\n",
      "  % self.max_iter, ConvergenceWarning)\n",
      "/Users/vaishnavihire/PycharmProjects/DS2000_grading/venv/lib/python3.7/site-packages/sklearn/neural_network/multilayer_perceptron.py:566: ConvergenceWarning: Stochastic Optimizer: Maximum iterations (400) reached and the optimization hasn't converged yet.\n",
      "  % self.max_iter, ConvergenceWarning)\n",
      "/Users/vaishnavihire/PycharmProjects/DS2000_grading/venv/lib/python3.7/site-packages/sklearn/neural_network/multilayer_perceptron.py:566: ConvergenceWarning: Stochastic Optimizer: Maximum iterations (200) reached and the optimization hasn't converged yet.\n",
      "  % self.max_iter, ConvergenceWarning)\n",
      "/Users/vaishnavihire/PycharmProjects/DS2000_grading/venv/lib/python3.7/site-packages/sklearn/neural_network/multilayer_perceptron.py:566: ConvergenceWarning: Stochastic Optimizer: Maximum iterations (200) reached and the optimization hasn't converged yet.\n",
      "  % self.max_iter, ConvergenceWarning)\n",
      "/Users/vaishnavihire/PycharmProjects/DS2000_grading/venv/lib/python3.7/site-packages/sklearn/neural_network/multilayer_perceptron.py:566: ConvergenceWarning: Stochastic Optimizer: Maximum iterations (200) reached and the optimization hasn't converged yet.\n",
      "  % self.max_iter, ConvergenceWarning)\n",
      "/Users/vaishnavihire/PycharmProjects/DS2000_grading/venv/lib/python3.7/site-packages/sklearn/neural_network/multilayer_perceptron.py:566: ConvergenceWarning: Stochastic Optimizer: Maximum iterations (300) reached and the optimization hasn't converged yet.\n",
      "  % self.max_iter, ConvergenceWarning)\n",
      "/Users/vaishnavihire/PycharmProjects/DS2000_grading/venv/lib/python3.7/site-packages/sklearn/neural_network/multilayer_perceptron.py:566: ConvergenceWarning: Stochastic Optimizer: Maximum iterations (300) reached and the optimization hasn't converged yet.\n",
      "  % self.max_iter, ConvergenceWarning)\n",
      "/Users/vaishnavihire/PycharmProjects/DS2000_grading/venv/lib/python3.7/site-packages/sklearn/neural_network/multilayer_perceptron.py:566: ConvergenceWarning: Stochastic Optimizer: Maximum iterations (400) reached and the optimization hasn't converged yet.\n",
      "  % self.max_iter, ConvergenceWarning)\n",
      "/Users/vaishnavihire/PycharmProjects/DS2000_grading/venv/lib/python3.7/site-packages/sklearn/neural_network/multilayer_perceptron.py:566: ConvergenceWarning: Stochastic Optimizer: Maximum iterations (400) reached and the optimization hasn't converged yet.\n",
      "  % self.max_iter, ConvergenceWarning)\n"
     ]
    },
    {
     "name": "stdout",
     "output_type": "stream",
     "text": [
      "Grid search result:\n",
      "[130, 400, 0.001]\n",
      "0.7279411764705883\n"
     ]
    },
    {
     "name": "stderr",
     "output_type": "stream",
     "text": [
      "/Users/vaishnavihire/PycharmProjects/DS2000_grading/venv/lib/python3.7/site-packages/sklearn/neural_network/multilayer_perceptron.py:566: ConvergenceWarning: Stochastic Optimizer: Maximum iterations (200) reached and the optimization hasn't converged yet.\n",
      "  % self.max_iter, ConvergenceWarning)\n",
      "/Users/vaishnavihire/PycharmProjects/DS2000_grading/venv/lib/python3.7/site-packages/sklearn/neural_network/multilayer_perceptron.py:566: ConvergenceWarning: Stochastic Optimizer: Maximum iterations (200) reached and the optimization hasn't converged yet.\n",
      "  % self.max_iter, ConvergenceWarning)\n",
      "/Users/vaishnavihire/PycharmProjects/DS2000_grading/venv/lib/python3.7/site-packages/sklearn/neural_network/multilayer_perceptron.py:566: ConvergenceWarning: Stochastic Optimizer: Maximum iterations (200) reached and the optimization hasn't converged yet.\n",
      "  % self.max_iter, ConvergenceWarning)\n",
      "/Users/vaishnavihire/PycharmProjects/DS2000_grading/venv/lib/python3.7/site-packages/sklearn/neural_network/multilayer_perceptron.py:566: ConvergenceWarning: Stochastic Optimizer: Maximum iterations (300) reached and the optimization hasn't converged yet.\n",
      "  % self.max_iter, ConvergenceWarning)\n",
      "/Users/vaishnavihire/PycharmProjects/DS2000_grading/venv/lib/python3.7/site-packages/sklearn/neural_network/multilayer_perceptron.py:566: ConvergenceWarning: Stochastic Optimizer: Maximum iterations (200) reached and the optimization hasn't converged yet.\n",
      "  % self.max_iter, ConvergenceWarning)\n",
      "/Users/vaishnavihire/PycharmProjects/DS2000_grading/venv/lib/python3.7/site-packages/sklearn/neural_network/multilayer_perceptron.py:566: ConvergenceWarning: Stochastic Optimizer: Maximum iterations (200) reached and the optimization hasn't converged yet.\n",
      "  % self.max_iter, ConvergenceWarning)\n",
      "/Users/vaishnavihire/PycharmProjects/DS2000_grading/venv/lib/python3.7/site-packages/sklearn/neural_network/multilayer_perceptron.py:566: ConvergenceWarning: Stochastic Optimizer: Maximum iterations (300) reached and the optimization hasn't converged yet.\n",
      "  % self.max_iter, ConvergenceWarning)\n",
      "/Users/vaishnavihire/PycharmProjects/DS2000_grading/venv/lib/python3.7/site-packages/sklearn/neural_network/multilayer_perceptron.py:566: ConvergenceWarning: Stochastic Optimizer: Maximum iterations (200) reached and the optimization hasn't converged yet.\n",
      "  % self.max_iter, ConvergenceWarning)\n"
     ]
    },
    {
     "name": "stdout",
     "output_type": "stream",
     "text": [
      "Grid search result:\n",
      "[100, 400, 0.001]\n",
      "0.9375\n"
     ]
    },
    {
     "name": "stderr",
     "output_type": "stream",
     "text": [
      "/Users/vaishnavihire/PycharmProjects/DS2000_grading/venv/lib/python3.7/site-packages/sklearn/neural_network/multilayer_perceptron.py:566: ConvergenceWarning: Stochastic Optimizer: Maximum iterations (200) reached and the optimization hasn't converged yet.\n",
      "  % self.max_iter, ConvergenceWarning)\n",
      "/Users/vaishnavihire/PycharmProjects/DS2000_grading/venv/lib/python3.7/site-packages/sklearn/neural_network/multilayer_perceptron.py:566: ConvergenceWarning: Stochastic Optimizer: Maximum iterations (200) reached and the optimization hasn't converged yet.\n",
      "  % self.max_iter, ConvergenceWarning)\n",
      "/Users/vaishnavihire/PycharmProjects/DS2000_grading/venv/lib/python3.7/site-packages/sklearn/neural_network/multilayer_perceptron.py:566: ConvergenceWarning: Stochastic Optimizer: Maximum iterations (200) reached and the optimization hasn't converged yet.\n",
      "  % self.max_iter, ConvergenceWarning)\n",
      "/Users/vaishnavihire/PycharmProjects/DS2000_grading/venv/lib/python3.7/site-packages/sklearn/neural_network/multilayer_perceptron.py:566: ConvergenceWarning: Stochastic Optimizer: Maximum iterations (200) reached and the optimization hasn't converged yet.\n",
      "  % self.max_iter, ConvergenceWarning)\n",
      "/Users/vaishnavihire/PycharmProjects/DS2000_grading/venv/lib/python3.7/site-packages/sklearn/neural_network/multilayer_perceptron.py:566: ConvergenceWarning: Stochastic Optimizer: Maximum iterations (300) reached and the optimization hasn't converged yet.\n",
      "  % self.max_iter, ConvergenceWarning)\n",
      "/Users/vaishnavihire/PycharmProjects/DS2000_grading/venv/lib/python3.7/site-packages/sklearn/neural_network/multilayer_perceptron.py:566: ConvergenceWarning: Stochastic Optimizer: Maximum iterations (300) reached and the optimization hasn't converged yet.\n",
      "  % self.max_iter, ConvergenceWarning)\n",
      "/Users/vaishnavihire/PycharmProjects/DS2000_grading/venv/lib/python3.7/site-packages/sklearn/neural_network/multilayer_perceptron.py:566: ConvergenceWarning: Stochastic Optimizer: Maximum iterations (300) reached and the optimization hasn't converged yet.\n",
      "  % self.max_iter, ConvergenceWarning)\n",
      "/Users/vaishnavihire/PycharmProjects/DS2000_grading/venv/lib/python3.7/site-packages/sklearn/neural_network/multilayer_perceptron.py:566: ConvergenceWarning: Stochastic Optimizer: Maximum iterations (400) reached and the optimization hasn't converged yet.\n",
      "  % self.max_iter, ConvergenceWarning)\n",
      "/Users/vaishnavihire/PycharmProjects/DS2000_grading/venv/lib/python3.7/site-packages/sklearn/neural_network/multilayer_perceptron.py:566: ConvergenceWarning: Stochastic Optimizer: Maximum iterations (200) reached and the optimization hasn't converged yet.\n",
      "  % self.max_iter, ConvergenceWarning)\n",
      "/Users/vaishnavihire/PycharmProjects/DS2000_grading/venv/lib/python3.7/site-packages/sklearn/neural_network/multilayer_perceptron.py:566: ConvergenceWarning: Stochastic Optimizer: Maximum iterations (200) reached and the optimization hasn't converged yet.\n",
      "  % self.max_iter, ConvergenceWarning)\n",
      "/Users/vaishnavihire/PycharmProjects/DS2000_grading/venv/lib/python3.7/site-packages/sklearn/neural_network/multilayer_perceptron.py:566: ConvergenceWarning: Stochastic Optimizer: Maximum iterations (200) reached and the optimization hasn't converged yet.\n",
      "  % self.max_iter, ConvergenceWarning)\n",
      "/Users/vaishnavihire/PycharmProjects/DS2000_grading/venv/lib/python3.7/site-packages/sklearn/neural_network/multilayer_perceptron.py:566: ConvergenceWarning: Stochastic Optimizer: Maximum iterations (200) reached and the optimization hasn't converged yet.\n",
      "  % self.max_iter, ConvergenceWarning)\n",
      "/Users/vaishnavihire/PycharmProjects/DS2000_grading/venv/lib/python3.7/site-packages/sklearn/neural_network/multilayer_perceptron.py:566: ConvergenceWarning: Stochastic Optimizer: Maximum iterations (300) reached and the optimization hasn't converged yet.\n",
      "  % self.max_iter, ConvergenceWarning)\n",
      "/Users/vaishnavihire/PycharmProjects/DS2000_grading/venv/lib/python3.7/site-packages/sklearn/neural_network/multilayer_perceptron.py:566: ConvergenceWarning: Stochastic Optimizer: Maximum iterations (300) reached and the optimization hasn't converged yet.\n",
      "  % self.max_iter, ConvergenceWarning)\n",
      "/Users/vaishnavihire/PycharmProjects/DS2000_grading/venv/lib/python3.7/site-packages/sklearn/neural_network/multilayer_perceptron.py:566: ConvergenceWarning: Stochastic Optimizer: Maximum iterations (300) reached and the optimization hasn't converged yet.\n",
      "  % self.max_iter, ConvergenceWarning)\n",
      "/Users/vaishnavihire/PycharmProjects/DS2000_grading/venv/lib/python3.7/site-packages/sklearn/neural_network/multilayer_perceptron.py:566: ConvergenceWarning: Stochastic Optimizer: Maximum iterations (200) reached and the optimization hasn't converged yet.\n",
      "  % self.max_iter, ConvergenceWarning)\n",
      "/Users/vaishnavihire/PycharmProjects/DS2000_grading/venv/lib/python3.7/site-packages/sklearn/neural_network/multilayer_perceptron.py:566: ConvergenceWarning: Stochastic Optimizer: Maximum iterations (200) reached and the optimization hasn't converged yet.\n",
      "  % self.max_iter, ConvergenceWarning)\n",
      "/Users/vaishnavihire/PycharmProjects/DS2000_grading/venv/lib/python3.7/site-packages/sklearn/neural_network/multilayer_perceptron.py:566: ConvergenceWarning: Stochastic Optimizer: Maximum iterations (200) reached and the optimization hasn't converged yet.\n",
      "  % self.max_iter, ConvergenceWarning)\n",
      "/Users/vaishnavihire/PycharmProjects/DS2000_grading/venv/lib/python3.7/site-packages/sklearn/neural_network/multilayer_perceptron.py:566: ConvergenceWarning: Stochastic Optimizer: Maximum iterations (200) reached and the optimization hasn't converged yet.\n",
      "  % self.max_iter, ConvergenceWarning)\n",
      "/Users/vaishnavihire/PycharmProjects/DS2000_grading/venv/lib/python3.7/site-packages/sklearn/neural_network/multilayer_perceptron.py:566: ConvergenceWarning: Stochastic Optimizer: Maximum iterations (300) reached and the optimization hasn't converged yet.\n",
      "  % self.max_iter, ConvergenceWarning)\n",
      "/Users/vaishnavihire/PycharmProjects/DS2000_grading/venv/lib/python3.7/site-packages/sklearn/neural_network/multilayer_perceptron.py:566: ConvergenceWarning: Stochastic Optimizer: Maximum iterations (300) reached and the optimization hasn't converged yet.\n",
      "  % self.max_iter, ConvergenceWarning)\n",
      "/Users/vaishnavihire/PycharmProjects/DS2000_grading/venv/lib/python3.7/site-packages/sklearn/neural_network/multilayer_perceptron.py:566: ConvergenceWarning: Stochastic Optimizer: Maximum iterations (300) reached and the optimization hasn't converged yet.\n",
      "  % self.max_iter, ConvergenceWarning)\n",
      "/Users/vaishnavihire/PycharmProjects/DS2000_grading/venv/lib/python3.7/site-packages/sklearn/neural_network/multilayer_perceptron.py:566: ConvergenceWarning: Stochastic Optimizer: Maximum iterations (300) reached and the optimization hasn't converged yet.\n",
      "  % self.max_iter, ConvergenceWarning)\n",
      "/Users/vaishnavihire/PycharmProjects/DS2000_grading/venv/lib/python3.7/site-packages/sklearn/neural_network/multilayer_perceptron.py:566: ConvergenceWarning: Stochastic Optimizer: Maximum iterations (400) reached and the optimization hasn't converged yet.\n",
      "  % self.max_iter, ConvergenceWarning)\n",
      "/Users/vaishnavihire/PycharmProjects/DS2000_grading/venv/lib/python3.7/site-packages/sklearn/neural_network/multilayer_perceptron.py:566: ConvergenceWarning: Stochastic Optimizer: Maximum iterations (200) reached and the optimization hasn't converged yet.\n",
      "  % self.max_iter, ConvergenceWarning)\n",
      "/Users/vaishnavihire/PycharmProjects/DS2000_grading/venv/lib/python3.7/site-packages/sklearn/neural_network/multilayer_perceptron.py:566: ConvergenceWarning: Stochastic Optimizer: Maximum iterations (200) reached and the optimization hasn't converged yet.\n",
      "  % self.max_iter, ConvergenceWarning)\n",
      "/Users/vaishnavihire/PycharmProjects/DS2000_grading/venv/lib/python3.7/site-packages/sklearn/neural_network/multilayer_perceptron.py:566: ConvergenceWarning: Stochastic Optimizer: Maximum iterations (200) reached and the optimization hasn't converged yet.\n",
      "  % self.max_iter, ConvergenceWarning)\n",
      "/Users/vaishnavihire/PycharmProjects/DS2000_grading/venv/lib/python3.7/site-packages/sklearn/neural_network/multilayer_perceptron.py:566: ConvergenceWarning: Stochastic Optimizer: Maximum iterations (300) reached and the optimization hasn't converged yet.\n",
      "  % self.max_iter, ConvergenceWarning)\n"
     ]
    },
    {
     "name": "stderr",
     "output_type": "stream",
     "text": [
      "/Users/vaishnavihire/PycharmProjects/DS2000_grading/venv/lib/python3.7/site-packages/sklearn/neural_network/multilayer_perceptron.py:566: ConvergenceWarning: Stochastic Optimizer: Maximum iterations (300) reached and the optimization hasn't converged yet.\n",
      "  % self.max_iter, ConvergenceWarning)\n",
      "/Users/vaishnavihire/PycharmProjects/DS2000_grading/venv/lib/python3.7/site-packages/sklearn/neural_network/multilayer_perceptron.py:566: ConvergenceWarning: Stochastic Optimizer: Maximum iterations (300) reached and the optimization hasn't converged yet.\n",
      "  % self.max_iter, ConvergenceWarning)\n"
     ]
    },
    {
     "name": "stdout",
     "output_type": "stream",
     "text": [
      "Grid search result:\n",
      "[110, 200, 0.001]\n",
      "0.8\n"
     ]
    },
    {
     "name": "stderr",
     "output_type": "stream",
     "text": [
      "/Users/vaishnavihire/PycharmProjects/DS2000_grading/venv/lib/python3.7/site-packages/sklearn/neural_network/multilayer_perceptron.py:566: ConvergenceWarning: Stochastic Optimizer: Maximum iterations (200) reached and the optimization hasn't converged yet.\n",
      "  % self.max_iter, ConvergenceWarning)\n",
      "/Users/vaishnavihire/PycharmProjects/DS2000_grading/venv/lib/python3.7/site-packages/sklearn/neural_network/multilayer_perceptron.py:566: ConvergenceWarning: Stochastic Optimizer: Maximum iterations (300) reached and the optimization hasn't converged yet.\n",
      "  % self.max_iter, ConvergenceWarning)\n",
      "/Users/vaishnavihire/PycharmProjects/DS2000_grading/venv/lib/python3.7/site-packages/sklearn/neural_network/multilayer_perceptron.py:566: ConvergenceWarning: Stochastic Optimizer: Maximum iterations (300) reached and the optimization hasn't converged yet.\n",
      "  % self.max_iter, ConvergenceWarning)\n",
      "/Users/vaishnavihire/PycharmProjects/DS2000_grading/venv/lib/python3.7/site-packages/sklearn/neural_network/multilayer_perceptron.py:566: ConvergenceWarning: Stochastic Optimizer: Maximum iterations (200) reached and the optimization hasn't converged yet.\n",
      "  % self.max_iter, ConvergenceWarning)\n",
      "/Users/vaishnavihire/PycharmProjects/DS2000_grading/venv/lib/python3.7/site-packages/sklearn/neural_network/multilayer_perceptron.py:566: ConvergenceWarning: Stochastic Optimizer: Maximum iterations (200) reached and the optimization hasn't converged yet.\n",
      "  % self.max_iter, ConvergenceWarning)\n",
      "/Users/vaishnavihire/PycharmProjects/DS2000_grading/venv/lib/python3.7/site-packages/sklearn/neural_network/multilayer_perceptron.py:566: ConvergenceWarning: Stochastic Optimizer: Maximum iterations (200) reached and the optimization hasn't converged yet.\n",
      "  % self.max_iter, ConvergenceWarning)\n",
      "/Users/vaishnavihire/PycharmProjects/DS2000_grading/venv/lib/python3.7/site-packages/sklearn/neural_network/multilayer_perceptron.py:566: ConvergenceWarning: Stochastic Optimizer: Maximum iterations (300) reached and the optimization hasn't converged yet.\n",
      "  % self.max_iter, ConvergenceWarning)\n",
      "/Users/vaishnavihire/PycharmProjects/DS2000_grading/venv/lib/python3.7/site-packages/sklearn/neural_network/multilayer_perceptron.py:566: ConvergenceWarning: Stochastic Optimizer: Maximum iterations (200) reached and the optimization hasn't converged yet.\n",
      "  % self.max_iter, ConvergenceWarning)\n"
     ]
    },
    {
     "name": "stdout",
     "output_type": "stream",
     "text": [
      "Grid search result:\n",
      "[110, 300, 0.01]\n",
      "0.4807692307692308\n"
     ]
    },
    {
     "name": "stderr",
     "output_type": "stream",
     "text": [
      "/Users/vaishnavihire/PycharmProjects/DS2000_grading/venv/lib/python3.7/site-packages/sklearn/neural_network/multilayer_perceptron.py:566: ConvergenceWarning: Stochastic Optimizer: Maximum iterations (200) reached and the optimization hasn't converged yet.\n",
      "  % self.max_iter, ConvergenceWarning)\n",
      "/Users/vaishnavihire/PycharmProjects/DS2000_grading/venv/lib/python3.7/site-packages/sklearn/neural_network/multilayer_perceptron.py:566: ConvergenceWarning: Stochastic Optimizer: Maximum iterations (200) reached and the optimization hasn't converged yet.\n",
      "  % self.max_iter, ConvergenceWarning)\n",
      "/Users/vaishnavihire/PycharmProjects/DS2000_grading/venv/lib/python3.7/site-packages/sklearn/neural_network/multilayer_perceptron.py:566: ConvergenceWarning: Stochastic Optimizer: Maximum iterations (300) reached and the optimization hasn't converged yet.\n",
      "  % self.max_iter, ConvergenceWarning)\n",
      "/Users/vaishnavihire/PycharmProjects/DS2000_grading/venv/lib/python3.7/site-packages/sklearn/neural_network/multilayer_perceptron.py:566: ConvergenceWarning: Stochastic Optimizer: Maximum iterations (300) reached and the optimization hasn't converged yet.\n",
      "  % self.max_iter, ConvergenceWarning)\n",
      "/Users/vaishnavihire/PycharmProjects/DS2000_grading/venv/lib/python3.7/site-packages/sklearn/neural_network/multilayer_perceptron.py:566: ConvergenceWarning: Stochastic Optimizer: Maximum iterations (300) reached and the optimization hasn't converged yet.\n",
      "  % self.max_iter, ConvergenceWarning)\n",
      "/Users/vaishnavihire/PycharmProjects/DS2000_grading/venv/lib/python3.7/site-packages/sklearn/neural_network/multilayer_perceptron.py:566: ConvergenceWarning: Stochastic Optimizer: Maximum iterations (200) reached and the optimization hasn't converged yet.\n",
      "  % self.max_iter, ConvergenceWarning)\n",
      "/Users/vaishnavihire/PycharmProjects/DS2000_grading/venv/lib/python3.7/site-packages/sklearn/neural_network/multilayer_perceptron.py:566: ConvergenceWarning: Stochastic Optimizer: Maximum iterations (200) reached and the optimization hasn't converged yet.\n",
      "  % self.max_iter, ConvergenceWarning)\n",
      "/Users/vaishnavihire/PycharmProjects/DS2000_grading/venv/lib/python3.7/site-packages/sklearn/neural_network/multilayer_perceptron.py:566: ConvergenceWarning: Stochastic Optimizer: Maximum iterations (200) reached and the optimization hasn't converged yet.\n",
      "  % self.max_iter, ConvergenceWarning)\n",
      "/Users/vaishnavihire/PycharmProjects/DS2000_grading/venv/lib/python3.7/site-packages/sklearn/neural_network/multilayer_perceptron.py:566: ConvergenceWarning: Stochastic Optimizer: Maximum iterations (200) reached and the optimization hasn't converged yet.\n",
      "  % self.max_iter, ConvergenceWarning)\n",
      "/Users/vaishnavihire/PycharmProjects/DS2000_grading/venv/lib/python3.7/site-packages/sklearn/neural_network/multilayer_perceptron.py:566: ConvergenceWarning: Stochastic Optimizer: Maximum iterations (200) reached and the optimization hasn't converged yet.\n",
      "  % self.max_iter, ConvergenceWarning)\n",
      "/Users/vaishnavihire/PycharmProjects/DS2000_grading/venv/lib/python3.7/site-packages/sklearn/neural_network/multilayer_perceptron.py:566: ConvergenceWarning: Stochastic Optimizer: Maximum iterations (200) reached and the optimization hasn't converged yet.\n",
      "  % self.max_iter, ConvergenceWarning)\n",
      "/Users/vaishnavihire/PycharmProjects/DS2000_grading/venv/lib/python3.7/site-packages/sklearn/neural_network/multilayer_perceptron.py:566: ConvergenceWarning: Stochastic Optimizer: Maximum iterations (300) reached and the optimization hasn't converged yet.\n",
      "  % self.max_iter, ConvergenceWarning)\n",
      "/Users/vaishnavihire/PycharmProjects/DS2000_grading/venv/lib/python3.7/site-packages/sklearn/neural_network/multilayer_perceptron.py:566: ConvergenceWarning: Stochastic Optimizer: Maximum iterations (300) reached and the optimization hasn't converged yet.\n",
      "  % self.max_iter, ConvergenceWarning)\n",
      "/Users/vaishnavihire/PycharmProjects/DS2000_grading/venv/lib/python3.7/site-packages/sklearn/neural_network/multilayer_perceptron.py:566: ConvergenceWarning: Stochastic Optimizer: Maximum iterations (300) reached and the optimization hasn't converged yet.\n",
      "  % self.max_iter, ConvergenceWarning)\n",
      "/Users/vaishnavihire/PycharmProjects/DS2000_grading/venv/lib/python3.7/site-packages/sklearn/neural_network/multilayer_perceptron.py:566: ConvergenceWarning: Stochastic Optimizer: Maximum iterations (200) reached and the optimization hasn't converged yet.\n",
      "  % self.max_iter, ConvergenceWarning)\n",
      "/Users/vaishnavihire/PycharmProjects/DS2000_grading/venv/lib/python3.7/site-packages/sklearn/neural_network/multilayer_perceptron.py:566: ConvergenceWarning: Stochastic Optimizer: Maximum iterations (200) reached and the optimization hasn't converged yet.\n",
      "  % self.max_iter, ConvergenceWarning)\n",
      "/Users/vaishnavihire/PycharmProjects/DS2000_grading/venv/lib/python3.7/site-packages/sklearn/neural_network/multilayer_perceptron.py:566: ConvergenceWarning: Stochastic Optimizer: Maximum iterations (300) reached and the optimization hasn't converged yet.\n",
      "  % self.max_iter, ConvergenceWarning)\n",
      "/Users/vaishnavihire/PycharmProjects/DS2000_grading/venv/lib/python3.7/site-packages/sklearn/neural_network/multilayer_perceptron.py:566: ConvergenceWarning: Stochastic Optimizer: Maximum iterations (400) reached and the optimization hasn't converged yet.\n",
      "  % self.max_iter, ConvergenceWarning)\n"
     ]
    },
    {
     "name": "stdout",
     "output_type": "stream",
     "text": [
      "Grid search result:\n",
      "[100, 200, 0.1]\n",
      "0.80625\n"
     ]
    },
    {
     "name": "stderr",
     "output_type": "stream",
     "text": [
      "/Users/vaishnavihire/PycharmProjects/DS2000_grading/venv/lib/python3.7/site-packages/sklearn/neural_network/multilayer_perceptron.py:566: ConvergenceWarning: Stochastic Optimizer: Maximum iterations (200) reached and the optimization hasn't converged yet.\n",
      "  % self.max_iter, ConvergenceWarning)\n",
      "/Users/vaishnavihire/PycharmProjects/DS2000_grading/venv/lib/python3.7/site-packages/sklearn/neural_network/multilayer_perceptron.py:566: ConvergenceWarning: Stochastic Optimizer: Maximum iterations (200) reached and the optimization hasn't converged yet.\n",
      "  % self.max_iter, ConvergenceWarning)\n",
      "/Users/vaishnavihire/PycharmProjects/DS2000_grading/venv/lib/python3.7/site-packages/sklearn/neural_network/multilayer_perceptron.py:566: ConvergenceWarning: Stochastic Optimizer: Maximum iterations (200) reached and the optimization hasn't converged yet.\n",
      "  % self.max_iter, ConvergenceWarning)\n",
      "/Users/vaishnavihire/PycharmProjects/DS2000_grading/venv/lib/python3.7/site-packages/sklearn/neural_network/multilayer_perceptron.py:566: ConvergenceWarning: Stochastic Optimizer: Maximum iterations (200) reached and the optimization hasn't converged yet.\n",
      "  % self.max_iter, ConvergenceWarning)\n",
      "/Users/vaishnavihire/PycharmProjects/DS2000_grading/venv/lib/python3.7/site-packages/sklearn/neural_network/multilayer_perceptron.py:566: ConvergenceWarning: Stochastic Optimizer: Maximum iterations (300) reached and the optimization hasn't converged yet.\n",
      "  % self.max_iter, ConvergenceWarning)\n",
      "/Users/vaishnavihire/PycharmProjects/DS2000_grading/venv/lib/python3.7/site-packages/sklearn/neural_network/multilayer_perceptron.py:566: ConvergenceWarning: Stochastic Optimizer: Maximum iterations (200) reached and the optimization hasn't converged yet.\n",
      "  % self.max_iter, ConvergenceWarning)\n",
      "/Users/vaishnavihire/PycharmProjects/DS2000_grading/venv/lib/python3.7/site-packages/sklearn/neural_network/multilayer_perceptron.py:566: ConvergenceWarning: Stochastic Optimizer: Maximum iterations (300) reached and the optimization hasn't converged yet.\n",
      "  % self.max_iter, ConvergenceWarning)\n",
      "/Users/vaishnavihire/PycharmProjects/DS2000_grading/venv/lib/python3.7/site-packages/sklearn/neural_network/multilayer_perceptron.py:566: ConvergenceWarning: Stochastic Optimizer: Maximum iterations (200) reached and the optimization hasn't converged yet.\n",
      "  % self.max_iter, ConvergenceWarning)\n",
      "/Users/vaishnavihire/PycharmProjects/DS2000_grading/venv/lib/python3.7/site-packages/sklearn/neural_network/multilayer_perceptron.py:566: ConvergenceWarning: Stochastic Optimizer: Maximum iterations (200) reached and the optimization hasn't converged yet.\n",
      "  % self.max_iter, ConvergenceWarning)\n",
      "/Users/vaishnavihire/PycharmProjects/DS2000_grading/venv/lib/python3.7/site-packages/sklearn/neural_network/multilayer_perceptron.py:566: ConvergenceWarning: Stochastic Optimizer: Maximum iterations (200) reached and the optimization hasn't converged yet.\n",
      "  % self.max_iter, ConvergenceWarning)\n",
      "/Users/vaishnavihire/PycharmProjects/DS2000_grading/venv/lib/python3.7/site-packages/sklearn/neural_network/multilayer_perceptron.py:566: ConvergenceWarning: Stochastic Optimizer: Maximum iterations (300) reached and the optimization hasn't converged yet.\n",
      "  % self.max_iter, ConvergenceWarning)\n",
      "/Users/vaishnavihire/PycharmProjects/DS2000_grading/venv/lib/python3.7/site-packages/sklearn/neural_network/multilayer_perceptron.py:566: ConvergenceWarning: Stochastic Optimizer: Maximum iterations (300) reached and the optimization hasn't converged yet.\n",
      "  % self.max_iter, ConvergenceWarning)\n",
      "/Users/vaishnavihire/PycharmProjects/DS2000_grading/venv/lib/python3.7/site-packages/sklearn/neural_network/multilayer_perceptron.py:566: ConvergenceWarning: Stochastic Optimizer: Maximum iterations (200) reached and the optimization hasn't converged yet.\n",
      "  % self.max_iter, ConvergenceWarning)\n",
      "/Users/vaishnavihire/PycharmProjects/DS2000_grading/venv/lib/python3.7/site-packages/sklearn/neural_network/multilayer_perceptron.py:566: ConvergenceWarning: Stochastic Optimizer: Maximum iterations (300) reached and the optimization hasn't converged yet.\n",
      "  % self.max_iter, ConvergenceWarning)\n"
     ]
    },
    {
     "name": "stdout",
     "output_type": "stream",
     "text": [
      "Grid search result:\n",
      "[100, 200, 0.01]\n",
      "0.8333333333333334\n"
     ]
    },
    {
     "name": "stderr",
     "output_type": "stream",
     "text": [
      "/Users/vaishnavihire/PycharmProjects/DS2000_grading/venv/lib/python3.7/site-packages/sklearn/neural_network/multilayer_perceptron.py:566: ConvergenceWarning: Stochastic Optimizer: Maximum iterations (200) reached and the optimization hasn't converged yet.\n",
      "  % self.max_iter, ConvergenceWarning)\n",
      "/Users/vaishnavihire/PycharmProjects/DS2000_grading/venv/lib/python3.7/site-packages/sklearn/neural_network/multilayer_perceptron.py:566: ConvergenceWarning: Stochastic Optimizer: Maximum iterations (200) reached and the optimization hasn't converged yet.\n",
      "  % self.max_iter, ConvergenceWarning)\n",
      "/Users/vaishnavihire/PycharmProjects/DS2000_grading/venv/lib/python3.7/site-packages/sklearn/neural_network/multilayer_perceptron.py:566: ConvergenceWarning: Stochastic Optimizer: Maximum iterations (200) reached and the optimization hasn't converged yet.\n",
      "  % self.max_iter, ConvergenceWarning)\n",
      "/Users/vaishnavihire/PycharmProjects/DS2000_grading/venv/lib/python3.7/site-packages/sklearn/neural_network/multilayer_perceptron.py:566: ConvergenceWarning: Stochastic Optimizer: Maximum iterations (300) reached and the optimization hasn't converged yet.\n",
      "  % self.max_iter, ConvergenceWarning)\n",
      "/Users/vaishnavihire/PycharmProjects/DS2000_grading/venv/lib/python3.7/site-packages/sklearn/neural_network/multilayer_perceptron.py:566: ConvergenceWarning: Stochastic Optimizer: Maximum iterations (300) reached and the optimization hasn't converged yet.\n",
      "  % self.max_iter, ConvergenceWarning)\n",
      "/Users/vaishnavihire/PycharmProjects/DS2000_grading/venv/lib/python3.7/site-packages/sklearn/neural_network/multilayer_perceptron.py:566: ConvergenceWarning: Stochastic Optimizer: Maximum iterations (300) reached and the optimization hasn't converged yet.\n",
      "  % self.max_iter, ConvergenceWarning)\n",
      "/Users/vaishnavihire/PycharmProjects/DS2000_grading/venv/lib/python3.7/site-packages/sklearn/neural_network/multilayer_perceptron.py:566: ConvergenceWarning: Stochastic Optimizer: Maximum iterations (200) reached and the optimization hasn't converged yet.\n",
      "  % self.max_iter, ConvergenceWarning)\n",
      "/Users/vaishnavihire/PycharmProjects/DS2000_grading/venv/lib/python3.7/site-packages/sklearn/neural_network/multilayer_perceptron.py:566: ConvergenceWarning: Stochastic Optimizer: Maximum iterations (200) reached and the optimization hasn't converged yet.\n",
      "  % self.max_iter, ConvergenceWarning)\n",
      "/Users/vaishnavihire/PycharmProjects/DS2000_grading/venv/lib/python3.7/site-packages/sklearn/neural_network/multilayer_perceptron.py:566: ConvergenceWarning: Stochastic Optimizer: Maximum iterations (200) reached and the optimization hasn't converged yet.\n",
      "  % self.max_iter, ConvergenceWarning)\n",
      "/Users/vaishnavihire/PycharmProjects/DS2000_grading/venv/lib/python3.7/site-packages/sklearn/neural_network/multilayer_perceptron.py:566: ConvergenceWarning: Stochastic Optimizer: Maximum iterations (300) reached and the optimization hasn't converged yet.\n",
      "  % self.max_iter, ConvergenceWarning)\n",
      "/Users/vaishnavihire/PycharmProjects/DS2000_grading/venv/lib/python3.7/site-packages/sklearn/neural_network/multilayer_perceptron.py:566: ConvergenceWarning: Stochastic Optimizer: Maximum iterations (200) reached and the optimization hasn't converged yet.\n",
      "  % self.max_iter, ConvergenceWarning)\n",
      "/Users/vaishnavihire/PycharmProjects/DS2000_grading/venv/lib/python3.7/site-packages/sklearn/neural_network/multilayer_perceptron.py:566: ConvergenceWarning: Stochastic Optimizer: Maximum iterations (200) reached and the optimization hasn't converged yet.\n",
      "  % self.max_iter, ConvergenceWarning)\n",
      "/Users/vaishnavihire/PycharmProjects/DS2000_grading/venv/lib/python3.7/site-packages/sklearn/neural_network/multilayer_perceptron.py:566: ConvergenceWarning: Stochastic Optimizer: Maximum iterations (200) reached and the optimization hasn't converged yet.\n",
      "  % self.max_iter, ConvergenceWarning)\n",
      "/Users/vaishnavihire/PycharmProjects/DS2000_grading/venv/lib/python3.7/site-packages/sklearn/neural_network/multilayer_perceptron.py:566: ConvergenceWarning: Stochastic Optimizer: Maximum iterations (300) reached and the optimization hasn't converged yet.\n",
      "  % self.max_iter, ConvergenceWarning)\n",
      "/Users/vaishnavihire/PycharmProjects/DS2000_grading/venv/lib/python3.7/site-packages/sklearn/neural_network/multilayer_perceptron.py:566: ConvergenceWarning: Stochastic Optimizer: Maximum iterations (300) reached and the optimization hasn't converged yet.\n",
      "  % self.max_iter, ConvergenceWarning)\n",
      "/Users/vaishnavihire/PycharmProjects/DS2000_grading/venv/lib/python3.7/site-packages/sklearn/neural_network/multilayer_perceptron.py:566: ConvergenceWarning: Stochastic Optimizer: Maximum iterations (200) reached and the optimization hasn't converged yet.\n",
      "  % self.max_iter, ConvergenceWarning)\n",
      "/Users/vaishnavihire/PycharmProjects/DS2000_grading/venv/lib/python3.7/site-packages/sklearn/neural_network/multilayer_perceptron.py:566: ConvergenceWarning: Stochastic Optimizer: Maximum iterations (200) reached and the optimization hasn't converged yet.\n",
      "  % self.max_iter, ConvergenceWarning)\n",
      "/Users/vaishnavihire/PycharmProjects/DS2000_grading/venv/lib/python3.7/site-packages/sklearn/neural_network/multilayer_perceptron.py:566: ConvergenceWarning: Stochastic Optimizer: Maximum iterations (200) reached and the optimization hasn't converged yet.\n",
      "  % self.max_iter, ConvergenceWarning)\n",
      "/Users/vaishnavihire/PycharmProjects/DS2000_grading/venv/lib/python3.7/site-packages/sklearn/neural_network/multilayer_perceptron.py:566: ConvergenceWarning: Stochastic Optimizer: Maximum iterations (200) reached and the optimization hasn't converged yet.\n",
      "  % self.max_iter, ConvergenceWarning)\n",
      "/Users/vaishnavihire/PycharmProjects/DS2000_grading/venv/lib/python3.7/site-packages/sklearn/neural_network/multilayer_perceptron.py:566: ConvergenceWarning: Stochastic Optimizer: Maximum iterations (300) reached and the optimization hasn't converged yet.\n",
      "  % self.max_iter, ConvergenceWarning)\n",
      "/Users/vaishnavihire/PycharmProjects/DS2000_grading/venv/lib/python3.7/site-packages/sklearn/neural_network/multilayer_perceptron.py:566: ConvergenceWarning: Stochastic Optimizer: Maximum iterations (300) reached and the optimization hasn't converged yet.\n",
      "  % self.max_iter, ConvergenceWarning)\n"
     ]
    },
    {
     "name": "stdout",
     "output_type": "stream",
     "text": [
      "Grid search result:\n",
      "[100, 200, 0.1]\n",
      "0.7261029411764706\n"
     ]
    },
    {
     "data": {
      "text/plain": [
       "{'First Party Collection/Use': MLPClassifier(activation='relu', alpha=0.0001, batch_size='auto', beta_1=0.9,\n",
       "               beta_2=0.999, early_stopping=False, epsilon=1e-08,\n",
       "               hidden_layer_sizes=(130, 10), learning_rate='constant',\n",
       "               learning_rate_init=0.1, max_iter=300, momentum=0.9,\n",
       "               n_iter_no_change=10, nesterovs_momentum=True, power_t=0.5,\n",
       "               random_state=None, shuffle=True, solver='adam', tol=0.0001,\n",
       "               validation_fraction=0.1, verbose=False, warm_start=False),\n",
       " 'Third Party Sharing/Collection': MLPClassifier(activation='relu', alpha=0.0001, batch_size='auto', beta_1=0.9,\n",
       "               beta_2=0.999, early_stopping=False, epsilon=1e-08,\n",
       "               hidden_layer_sizes=(100, 10), learning_rate='constant',\n",
       "               learning_rate_init=0.001, max_iter=200, momentum=0.9,\n",
       "               n_iter_no_change=10, nesterovs_momentum=True, power_t=0.5,\n",
       "               random_state=None, shuffle=True, solver='adam', tol=0.0001,\n",
       "               validation_fraction=0.1, verbose=False, warm_start=False),\n",
       " 'User Choice/Control': MLPClassifier(activation='relu', alpha=0.0001, batch_size='auto', beta_1=0.9,\n",
       "               beta_2=0.999, early_stopping=False, epsilon=1e-08,\n",
       "               hidden_layer_sizes=(100, 10), learning_rate='constant',\n",
       "               learning_rate_init=0.01, max_iter=300, momentum=0.9,\n",
       "               n_iter_no_change=10, nesterovs_momentum=True, power_t=0.5,\n",
       "               random_state=None, shuffle=True, solver='adam', tol=0.0001,\n",
       "               validation_fraction=0.1, verbose=False, warm_start=False),\n",
       " 'Data Security': MLPClassifier(activation='relu', alpha=0.0001, batch_size='auto', beta_1=0.9,\n",
       "               beta_2=0.999, early_stopping=False, epsilon=1e-08,\n",
       "               hidden_layer_sizes=(130, 10), learning_rate='constant',\n",
       "               learning_rate_init=0.001, max_iter=400, momentum=0.9,\n",
       "               n_iter_no_change=10, nesterovs_momentum=True, power_t=0.5,\n",
       "               random_state=None, shuffle=True, solver='adam', tol=0.0001,\n",
       "               validation_fraction=0.1, verbose=False, warm_start=False),\n",
       " 'User Access, Edit and Deletion': MLPClassifier(activation='relu', alpha=0.0001, batch_size='auto', beta_1=0.9,\n",
       "               beta_2=0.999, early_stopping=False, epsilon=1e-08,\n",
       "               hidden_layer_sizes=(100, 10), learning_rate='constant',\n",
       "               learning_rate_init=0.001, max_iter=400, momentum=0.9,\n",
       "               n_iter_no_change=10, nesterovs_momentum=True, power_t=0.5,\n",
       "               random_state=None, shuffle=True, solver='adam', tol=0.0001,\n",
       "               validation_fraction=0.1, verbose=False, warm_start=False),\n",
       " 'International and Specific Audiences': MLPClassifier(activation='relu', alpha=0.0001, batch_size='auto', beta_1=0.9,\n",
       "               beta_2=0.999, early_stopping=False, epsilon=1e-08,\n",
       "               hidden_layer_sizes=(110, 10), learning_rate='constant',\n",
       "               learning_rate_init=0.001, max_iter=200, momentum=0.9,\n",
       "               n_iter_no_change=10, nesterovs_momentum=True, power_t=0.5,\n",
       "               random_state=None, shuffle=True, solver='adam', tol=0.0001,\n",
       "               validation_fraction=0.1, verbose=False, warm_start=False),\n",
       " 'Data Retention': MLPClassifier(activation='relu', alpha=0.0001, batch_size='auto', beta_1=0.9,\n",
       "               beta_2=0.999, early_stopping=False, epsilon=1e-08,\n",
       "               hidden_layer_sizes=(110, 10), learning_rate='constant',\n",
       "               learning_rate_init=0.01, max_iter=300, momentum=0.9,\n",
       "               n_iter_no_change=10, nesterovs_momentum=True, power_t=0.5,\n",
       "               random_state=None, shuffle=True, solver='adam', tol=0.0001,\n",
       "               validation_fraction=0.1, verbose=False, warm_start=False),\n",
       " 'Policy Change': MLPClassifier(activation='relu', alpha=0.0001, batch_size='auto', beta_1=0.9,\n",
       "               beta_2=0.999, early_stopping=False, epsilon=1e-08,\n",
       "               hidden_layer_sizes=(100, 10), learning_rate='constant',\n",
       "               learning_rate_init=0.1, max_iter=200, momentum=0.9,\n",
       "               n_iter_no_change=10, nesterovs_momentum=True, power_t=0.5,\n",
       "               random_state=None, shuffle=True, solver='adam', tol=0.0001,\n",
       "               validation_fraction=0.1, verbose=False, warm_start=False),\n",
       " 'Do Not Track': MLPClassifier(activation='relu', alpha=0.0001, batch_size='auto', beta_1=0.9,\n",
       "               beta_2=0.999, early_stopping=False, epsilon=1e-08,\n",
       "               hidden_layer_sizes=(100, 10), learning_rate='constant',\n",
       "               learning_rate_init=0.01, max_iter=200, momentum=0.9,\n",
       "               n_iter_no_change=10, nesterovs_momentum=True, power_t=0.5,\n",
       "               random_state=None, shuffle=True, solver='adam', tol=0.0001,\n",
       "               validation_fraction=0.1, verbose=False, warm_start=False),\n",
       " 'Other': MLPClassifier(activation='relu', alpha=0.0001, batch_size='auto', beta_1=0.9,\n",
       "               beta_2=0.999, early_stopping=False, epsilon=1e-08,\n",
       "               hidden_layer_sizes=(100, 10), learning_rate='constant',\n",
       "               learning_rate_init=0.1, max_iter=200, momentum=0.9,\n",
       "               n_iter_no_change=10, nesterovs_momentum=True, power_t=0.5,\n",
       "               random_state=None, shuffle=True, solver='adam', tol=0.0001,\n",
       "               validation_fraction=0.1, verbose=False, warm_start=False)}"
      ]
     },
     "execution_count": 16,
     "metadata": {},
     "output_type": "execute_result"
    }
   ],
   "source": [
    "all_analysis_mlp = {}\n",
    "for key in content:\n",
    "    all_analysis_mlp[key] = optimize_parameters([x_analysis_data[key],y_analysis_data[key]], [100,130, 10],[200, 400, 100], [0.001, 0.1, 1])\n",
    "    \n",
    "\n",
    "all_analysis_mlp\n",
    "    "
   ]
  },
  {
   "cell_type": "code",
   "execution_count": 22,
   "metadata": {
    "pycharm": {
     "is_executing": false
    }
   },
   "outputs": [
    {
     "name": "stderr",
     "output_type": "stream",
     "text": [
      "/Users/vaishnavihire/PycharmProjects/DS2000_grading/venv/lib/python3.7/site-packages/numpy/core/fromnumeric.py:3257: RuntimeWarning: Mean of empty slice.\n",
      "  out=out, **kwargs)\n",
      "/Users/vaishnavihire/PycharmProjects/DS2000_grading/venv/lib/python3.7/site-packages/numpy/core/_methods.py:161: RuntimeWarning: invalid value encountered in double_scalars\n",
      "  ret = ret.dtype.type(ret / rcount)\n"
     ]
    }
   ],
   "source": [
    "with open('../data/notags_policies/sample_train/dict0.4494910647887381.txt') as f:\n",
    "    test_content = json.loads(f.read())\n",
    "    \n",
    "    \n",
    "predicted_y_analysis ={} \n",
    "for key in test_content:\n",
    "    y_temp_predict = []\n",
    "    for i in test_content[key].keys():\n",
    "\n",
    "        if np.isnan(get_paragraph_vector(i)).any():\n",
    "            y_temp_predict.append(-1)\n",
    "        else:\n",
    "            y_temp_predict.append(all_analysis_mlp[key].predict([get_paragraph_vector(i)]))\n",
    "    \n",
    "    predicted_y_analysis[key] = y_temp_predict\n"
   ]
  },
  {
   "cell_type": "code",
   "execution_count": 91,
   "metadata": {},
   "outputs": [
    {
     "name": "stderr",
     "output_type": "stream",
     "text": [
      "/Users/vaishnavihire/PycharmProjects/DS2000_grading/venv/lib/python3.7/site-packages/numpy/core/fromnumeric.py:3257: RuntimeWarning: Mean of empty slice.\n",
      "  out=out, **kwargs)\n",
      "/Users/vaishnavihire/PycharmProjects/DS2000_grading/venv/lib/python3.7/site-packages/numpy/core/_methods.py:161: RuntimeWarning: invalid value encountered in double_scalars\n",
      "  ret = ret.dtype.type(ret / rcount)\n"
     ]
    },
    {
     "data": {
      "text/plain": [
       "{'Data Retention': [-1],\n",
       " 'Data Security': [array(['1'], dtype='<U1')],\n",
       " 'Do Not Track': [array(['1'], dtype='<U1')],\n",
       " 'First Party Collection/Use': [array(['1'], dtype='<U1')],\n",
       " 'International and Specific Audiences': [array(['0'], dtype='<U1')],\n",
       " 'Policy Change': [array(['0'], dtype='<U1')],\n",
       " 'Third Party Sharing/Collection': [array(['1'], dtype='<U1')],\n",
       " 'User Access, Edit and Deletion': [array(['0'], dtype='<U1')],\n",
       " 'User Choice/Control': [array(['0'], dtype='<U1')],\n",
       " 'Other': [array(['0'], dtype='<U1')]}"
      ]
     },
     "execution_count": 91,
     "metadata": {},
     "output_type": "execute_result"
    }
   ],
   "source": [
    "threat_predict = {}\n",
    "for key in CLASS_NUM:\n",
    "    y_temp_predict = []\n",
    "    temp = CLASS_NUM[key]\n",
    "    if np.isnan(get_paragraph_vector(' '.join(res[temp]))).any():\n",
    "        y_temp_predict.append(-1)\n",
    "    else:\n",
    "        \n",
    "        \n",
    "        y_temp_predict.append(all_analysis_mlp[key].predict([get_paragraph_vector(' '.join(res[temp]))]))\n",
    "    threat_predict[key] = y_temp_predict\n",
    "threat_predict"
   ]
  },
  {
   "cell_type": "code",
   "execution_count": 103,
   "metadata": {},
   "outputs": [
    {
     "data": {
      "image/png": "[encoded data removed]",
      "text/plain": [
       "<Figure size 432x288 with 1 Axes>"
      ]
     },
     "metadata": {
      "needs_background": "light"
     },
     "output_type": "display_data"
    }
   ],
   "source": [
    "plt.title(\"Dairy Queen Privacy Policy\")\n",
    "y = [len(res[i]) for i in range(10)]\n",
    "\n",
    "barlist = plt.bar(range(0,10), y)\n",
    "barlist[1].set_color('r')\n",
    "barlist[2].set_color('r')\n",
    "barlist[3].set_color('r')\n",
    "barlist[5].set_color('r')\n",
    "\n",
    "\n",
    "\n",
    "\n",
    "# plt.scatter(range(0,10), fscore_mlp, color='orange', label = 'MLP' )\n",
    "# plt.scatter(range(0,10), fscore_lda, color='green', label=\"LDA\")\n",
    "\n",
    "plt.xticks([0,1, 2,3,4,5,6,7,8,9],('Data Retention','Data Security', 'Do Not Track', 'First Party Collection/Use', 'International and Specific Audiences',\n",
    "            'Policy Change','Third Party Sharing/Collection','User Access, Edit and Deletion','User Choice/Control','Other'), rotation=90)\n",
    "\n",
    "\n",
    "plt.show()"
   ]
  },
  {
   "cell_type": "code",
   "execution_count": 23,
   "metadata": {},
   "outputs": [
    {
     "name": "stdout",
     "output_type": "stream",
     "text": [
      "First Party Collection/Use dict_values(['1', '1', '0', '1', '1'])\n",
      "Third Party Sharing/Collection dict_values(['1', '0', '1', '1', '1'])\n",
      "User Choice/Control dict_values(['1', '0', '1', '0', '0'])\n",
      "Data Security dict_values(['0', '0', '0', '0', '0'])\n",
      "User Access, Edit and Deletion dict_values(['0', '1', '0', '1', '0'])\n",
      "International and Specific Audiences dict_values(['1', '0', '0', '0', '1'])\n",
      "Data Retention dict_values(['1', '1', '0', '1', '0'])\n",
      "Policy Change dict_values(['1', '0', '0', '0', '0'])\n",
      "Do Not Track dict_values(['1', '-1', '1', '1'])\n",
      "Other dict_values(['1', '0', '0', '1', '1'])\n"
     ]
    }
   ],
   "source": [
    "for key in test_content:\n",
    "    print(key, test_content[key].values())"
   ]
  },
  {
   "cell_type": "code",
   "execution_count": 24,
   "metadata": {
    "pycharm": {
     "is_executing": false
    }
   },
   "outputs": [
    {
     "data": {
      "text/plain": [
       "{'First Party Collection/Use': ['1', '1', '1', '1', '1'],\n",
       " 'Third Party Sharing/Collection': ['1', '1', '1', '1', '1'],\n",
       " 'User Choice/Control': ['0', '0', '0', '0', '0'],\n",
       " 'Data Security': ['0', '0', '0', '0', '0'],\n",
       " 'User Access, Edit and Deletion': ['0', '0', '0', '0', '0'],\n",
       " 'International and Specific Audiences': ['0', '0', '0', '0', '0'],\n",
       " 'Data Retention': ['1', '1', '1', '1', '1'],\n",
       " 'Policy Change': ['0', '0', '0', '0', '0'],\n",
       " 'Do Not Track': ['1', -1, '1', '1'],\n",
       " 'Other': ['1', '0', '1', '1', '1']}"
      ]
     },
     "execution_count": 24,
     "metadata": {},
     "output_type": "execute_result"
    }
   ],
   "source": [
    "predicted_y_a = {}\n",
    "for key in test_content:\n",
    "    temp =[]\n",
    "    for i in predicted_y_analysis[key]:\n",
    "        if isinstance(i, int):\n",
    "            temp.append(i)    \n",
    "        else:\n",
    "            temp.append(i[0])\n",
    "    predicted_y_a[key] = temp\n",
    "\n",
    "    \n",
    "predicted_y_a\n"
   ]
  },
  {
   "cell_type": "code",
   "execution_count": 26,
   "metadata": {
    "pycharm": {
     "is_executing": false
    }
   },
   "outputs": [
    {
     "name": "stdout",
     "output_type": "stream",
     "text": [
      "[0.  0.8]\n",
      "[0.  0.8]\n",
      "[0.6 0. ]\n",
      "[1.]\n",
      "[0.6 0. ]\n",
      "[0.6 0. ]\n",
      "[0.  0.6]\n",
      "[0.8 0. ]\n",
      "[1. 1.]\n",
      "[1.   0.75]\n"
     ]
    },
    {
     "name": "stderr",
     "output_type": "stream",
     "text": [
      "/Users/vaishnavihire/PycharmProjects/DS2000_grading/venv/lib/python3.7/site-packages/sklearn/metrics/classification.py:1437: UndefinedMetricWarning: Precision and F-score are ill-defined and being set to 0.0 in labels with no predicted samples.\n",
      "  'precision', 'predicted', average, warn_for)\n"
     ]
    }
   ],
   "source": [
    "from sklearn.metrics import precision_recall_fscore_support as score\n",
    "\n",
    "\n",
    "for key in content:\n",
    "    print(score(list(test_content[key].values()), predicted_y_a[key])[0])\n",
    "\n",
    "# test_content['First Party Collection/Use'].values()"
   ]
  },
  {
   "cell_type": "code",
   "execution_count": null,
   "metadata": {
    "pycharm": {
     "is_executing": false
    }
   },
   "outputs": [],
   "source": [
    "{'First Party Collection/Use': ['1', '1', '1', '1', '0'],\n",
    " 'Third Party Sharing/Collection': ['0', '1', '1', '0', '0'],\n",
    " 'User Choice/Control': ['1', '1', '0', '1', '1'],\n",
    " 'Data Security': ['1', '1', '1', '1', '0'],\n",
    " 'User Access, Edit and Deletion': ['1', '1', '1', '1', '1'],\n",
    " 'International and Specific Audiences': ['0', '0', '0', '0', '1'],\n",
    " 'Data Retention': ['0', '0', '0', '0', '0'],\n",
    " 'Policy Change': ['0', '0', '1', '0', '0'],\n",
    " 'Do Not Track': ['0', 1, '0', '0'],\n",
    " 'Other': ['0', '0', '1', '0', '0']}"
   ]
  }
 ],
 "metadata": {
  "kernelspec": {
   "display_name": "Python 3",
   "language": "python",
   "name": "python3"
  },
  "language_info": {
   "codemirror_mode": {
    "name": "ipython",
    "version": 3
   },
   "file_extension": ".py",
   "mimetype": "text/x-python",
   "name": "python",
   "nbconvert_exporter": "python",
   "pygments_lexer": "ipython3",
   "version": "3.7.4"
  }
 },
 "nbformat": 4,
 "nbformat_minor": 1
}
