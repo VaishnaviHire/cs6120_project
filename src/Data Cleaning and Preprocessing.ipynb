{
 "cells": [
  {
   "cell_type": "code",
   "execution_count": 1,
   "metadata": {},
   "outputs": [],
   "source": [
    "import os\n",
    "from bs4 import BeautifulSoup\n",
    "import numpy as np\n",
    "import re"
   ]
  },
  {
   "cell_type": "markdown",
   "metadata": {},
   "source": [
    "### Exract content from HTML documents"
   ]
  },
  {
   "cell_type": "code",
   "execution_count": 2,
   "metadata": {},
   "outputs": [],
   "source": [
    "\n",
    "def convert_to_text(src_dir, target_dir):\n",
    "    for file in os.listdir('../data/original_policies'):\n",
    "        with open('../data/original_policies' + '/' + file, 'r', encoding=\"ISO-8859-1\") as f:\n",
    "            print(file)\n",
    "            data = f.read()\n",
    "            # print(data)\n",
    "            bs = BeautifulSoup(data,'html.parser')\n",
    "            texts = bs.findAll(['title', 'body','p','strong'])\n",
    "\n",
    "        with open('../data/clean_policies' + '/' + file, 'w') as f:\n",
    "            for t in texts:\n",
    "                f.write(t.text)"
   ]
  },
  {
   "cell_type": "markdown",
   "metadata": {},
   "source": [
    "### Remove tags from the documents"
   ]
  },
  {
   "cell_type": "code",
   "execution_count": 3,
   "metadata": {},
   "outputs": [],
   "source": [
    "def convert_clean_summaries(src_dir, target_dir):\n",
    "    for file in os.listdir('../data/sanitized_policies'):\n",
    "        with open('../data/sanitized_policies' + '/' + file, 'r', encoding=\"ISO-8859-1\") as f:\n",
    "\n",
    "            cleanr = re.compile('<.*?>')\n",
    "            cleantext = re.sub(cleanr, '', f.read())\n",
    "            filename = file.split('.', -1)[0] + '.txt'\n",
    "\n",
    "        with open('../data/notags_policies' + '/' + filename, 'w') as f:\n",
    "            f.write(cleantext)\n",
    "\n"
   ]
  },
  {
   "cell_type": "markdown",
   "metadata": {},
   "source": [
    "### Remove Punctions from data"
   ]
  },
  {
   "cell_type": "code",
   "execution_count": 5,
   "metadata": {},
   "outputs": [],
   "source": [
    "# remove all the punctuations from the text\n",
    "def remove_punctuation(data):\n",
    "    data = re.sub(\"_\", \"\", data)\n",
    "    data = re.sub(\"[^\\w\\s]\", \"\", data)\n",
    "    data = re.sub(' +', ' ', data)\n",
    "\n",
    "    return data"
   ]
  },
  {
   "cell_type": "markdown",
   "metadata": {},
   "source": [
    "### Identify Topics for each category of Privacy Policy"
   ]
  },
  {
   "cell_type": "code",
   "execution_count": null,
   "metadata": {},
   "outputs": [],
   "source": []
  }
 ],
 "metadata": {
  "kernelspec": {
   "display_name": "Python 3",
   "language": "python",
   "name": "python3"
  },
  "language_info": {
   "codemirror_mode": {
    "name": "ipython",
    "version": 3
   },
   "file_extension": ".py",
   "mimetype": "text/x-python",
   "name": "python",
   "nbconvert_exporter": "python",
   "pygments_lexer": "ipython3",
   "version": "3.7.4"
  }
 },
 "nbformat": 4,
 "nbformat_minor": 2
}
